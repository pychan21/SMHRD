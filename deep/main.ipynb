{
 "cells": [
  {
   "cell_type": "code",
   "execution_count": 1,
   "id": "statistical-championship",
   "metadata": {},
   "outputs": [
    {
     "name": "stdout",
     "output_type": "stream",
     "text": [
      "Requirement already satisfied: seaborn in c:\\users\\smt051\\anaconda3\\envs\\deep\\lib\\site-packages (0.11.1)\n",
      "Requirement already satisfied: matplotlib>=2.2 in c:\\users\\smt051\\anaconda3\\envs\\deep\\lib\\site-packages (from seaborn) (3.3.2)\n",
      "Requirement already satisfied: pandas>=0.23 in c:\\users\\smt051\\anaconda3\\envs\\deep\\lib\\site-packages (from seaborn) (1.1.5)\n",
      "Requirement already satisfied: scipy>=1.0 in c:\\users\\smt051\\anaconda3\\envs\\deep\\lib\\site-packages (from seaborn) (1.5.2)\n",
      "Requirement already satisfied: numpy>=1.15 in c:\\users\\smt051\\anaconda3\\envs\\deep\\lib\\site-packages (from seaborn) (1.19.2)\n",
      "Requirement already satisfied: kiwisolver>=1.0.1 in c:\\users\\smt051\\anaconda3\\envs\\deep\\lib\\site-packages (from matplotlib>=2.2->seaborn) (1.3.0)\n",
      "Requirement already satisfied: pillow>=6.2.0 in c:\\users\\smt051\\anaconda3\\envs\\deep\\lib\\site-packages (from matplotlib>=2.2->seaborn) (8.1.0)\n",
      "Requirement already satisfied: cycler>=0.10 in c:\\users\\smt051\\anaconda3\\envs\\deep\\lib\\site-packages (from matplotlib>=2.2->seaborn) (0.10.0)\n",
      "Requirement already satisfied: certifi>=2020.06.20 in c:\\users\\smt051\\anaconda3\\envs\\deep\\lib\\site-packages (from matplotlib>=2.2->seaborn) (2020.12.5)\n",
      "Requirement already satisfied: pyparsing!=2.0.4,!=2.1.2,!=2.1.6,>=2.0.3 in c:\\users\\smt051\\anaconda3\\envs\\deep\\lib\\site-packages (from matplotlib>=2.2->seaborn) (2.4.7)\n",
      "Requirement already satisfied: python-dateutil>=2.1 in c:\\users\\smt051\\anaconda3\\envs\\deep\\lib\\site-packages (from matplotlib>=2.2->seaborn) (2.8.1)\n",
      "Requirement already satisfied: six in c:\\users\\smt051\\anaconda3\\envs\\deep\\lib\\site-packages (from cycler>=0.10->matplotlib>=2.2->seaborn) (1.15.0)\n",
      "Requirement already satisfied: pytz>=2017.2 in c:\\users\\smt051\\anaconda3\\envs\\deep\\lib\\site-packages (from pandas>=0.23->seaborn) (2020.5)\n",
      "Note: you may need to restart the kernel to use updated packages.\n"
     ]
    }
   ],
   "source": [
    "pip install seaborn"
   ]
  },
  {
   "cell_type": "code",
   "execution_count": 2,
   "id": "dangerous-corrections",
   "metadata": {},
   "outputs": [
    {
     "name": "stdout",
     "output_type": "stream",
     "text": [
      "Note: you may need to restart the kernel to use updated packages.\n"
     ]
    },
    {
     "name": "stderr",
     "output_type": "stream",
     "text": [
      "ERROR: Exception:\n",
      "Traceback (most recent call last):\n",
      "  File \"C:\\Users\\SMT051\\anaconda3\\envs\\deep\\lib\\site-packages\\pip\\_vendor\\packaging\\requirements.py\", line 104, in __init__\n",
      "    req = REQUIREMENT.parseString(requirement_string)\n",
      "  File \"C:\\Users\\SMT051\\anaconda3\\envs\\deep\\lib\\site-packages\\pip\\_vendor\\pyparsing.py\", line 1955, in parseString\n",
      "    raise exc\n",
      "  File \"C:\\Users\\SMT051\\anaconda3\\envs\\deep\\lib\\site-packages\\pip\\_vendor\\pyparsing.py\", line 3814, in parseImpl\n",
      "    raise ParseException(instring, loc, self.errmsg, self)\n",
      "pip._vendor.pyparsing.ParseException: Expected stringEnd, found '['  (at char 11), (line:1, col:12)\n",
      "\n",
      "During handling of the above exception, another exception occurred:\n",
      "\n",
      "Traceback (most recent call last):\n",
      "  File \"C:\\Users\\SMT051\\anaconda3\\envs\\deep\\lib\\site-packages\\pip\\_internal\\cli\\base_command.py\", line 224, in _main\n",
      "    status = self.run(options, args)\n",
      "  File \"C:\\Users\\SMT051\\anaconda3\\envs\\deep\\lib\\site-packages\\pip\\_internal\\cli\\req_command.py\", line 180, in wrapper\n",
      "    return func(self, options, args)\n",
      "  File \"C:\\Users\\SMT051\\anaconda3\\envs\\deep\\lib\\site-packages\\pip\\_internal\\commands\\install.py\", line 291, in run\n",
      "    reqs = self.get_requirements(args, options, finder, session)\n",
      "  File \"C:\\Users\\SMT051\\anaconda3\\envs\\deep\\lib\\site-packages\\pip\\_internal\\cli\\req_command.py\", line 353, in get_requirements\n",
      "    user_supplied=True,\n",
      "  File \"C:\\Users\\SMT051\\anaconda3\\envs\\deep\\lib\\site-packages\\pip\\_internal\\req\\constructors.py\", line 399, in install_req_from_line\n",
      "    parts = parse_req_from_line(name, line_source)\n",
      "  File \"C:\\Users\\SMT051\\anaconda3\\envs\\deep\\lib\\site-packages\\pip\\_internal\\req\\constructors.py\", line 339, in parse_req_from_line\n",
      "    extras = convert_extras(extras_as_string)\n",
      "  File \"C:\\Users\\SMT051\\anaconda3\\envs\\deep\\lib\\site-packages\\pip\\_internal\\req\\constructors.py\", line 65, in convert_extras\n",
      "    return Requirement(\"placeholder\" + extras.lower()).extras\n",
      "  File \"C:\\Users\\SMT051\\anaconda3\\envs\\deep\\lib\\site-packages\\pip\\_vendor\\packaging\\requirements.py\", line 108, in __init__\n",
      "    requirement_string[e.loc : e.loc + 8], e.msg\n",
      "pip._vendor.packaging.requirements.InvalidRequirement: Parse error at \"'[https:\\\\'\": Expected stringEnd\n"
     ]
    }
   ],
   "source": [
    "pip install git+[\"https://github.com/googleapis/python-vision\"]"
   ]
  }
 ],
 "metadata": {
  "kernelspec": {
   "display_name": "Python 3",
   "language": "python",
   "name": "python3"
  },
  "language_info": {
   "codemirror_mode": {
    "name": "ipython",
    "version": 3
   },
   "file_extension": ".py",
   "mimetype": "text/x-python",
   "name": "python",
   "nbconvert_exporter": "python",
   "pygments_lexer": "ipython3",
   "version": "3.6.12"
  }
 },
 "nbformat": 4,
 "nbformat_minor": 5
}
