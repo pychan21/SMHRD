{
 "cells": [
  {
   "cell_type": "markdown",
   "metadata": {},
   "source": [
    "### 문제 정의\n",
    "\n",
    "- 패션 데이터를 이용해서 다중분류\n",
    "- 전이학습"
   ]
  },
  {
   "cell_type": "markdown",
   "metadata": {},
   "source": [
    "데이터 수집"
   ]
  },
  {
   "cell_type": "code",
   "execution_count": 17,
   "metadata": {},
   "outputs": [
    {
     "data": {
      "text/plain": [
       "((60000, 28, 28), (60000,), (10000, 28, 28), (10000,))"
      ]
     },
     "execution_count": 17,
     "metadata": {},
     "output_type": "execute_result"
    }
   ],
   "source": [
    "from tensorflow.keras.datasets import fashion_mnist\n",
    "\n",
    "(X_train, y_train), (X_test, y_test) = fashion_mnist.load_data()\n",
    "\n",
    "X_train.shape, y_train.shape, X_test.shape, y_test.shape"
   ]
  },
  {
   "cell_type": "code",
   "execution_count": 18,
   "metadata": {},
   "outputs": [
    {
     "data": {
      "text/plain": [
       "((1000, 28, 28), (1000,), (300, 28, 28), (300,))"
      ]
     },
     "execution_count": 18,
     "metadata": {},
     "output_type": "execute_result"
    }
   ],
   "source": [
    "# 훈련데이터 1000개, 테스트 데이터 300개 샘플링\n",
    "X_train = X_train[:1000, :] \n",
    "y_train = y_train[:1000] \n",
    "X_test = X_test[:300, :]\n",
    "y_test = y_test[:300]\n",
    "\n",
    "X_train.shape, y_train.shape, X_test.shape, y_test.shape"
   ]
  },
  {
   "cell_type": "code",
   "execution_count": 19,
   "metadata": {},
   "outputs": [
    {
     "data": {
      "text/plain": [
       "array([9, 0, 3, 2, 7, 5, 1, 6, 4, 8], dtype=uint8)"
      ]
     },
     "execution_count": 19,
     "metadata": {},
     "output_type": "execute_result"
    }
   ],
   "source": [
    "import pandas as pd\n",
    "\n",
    "pd.Series(y_train).unique()"
   ]
  },
  {
   "cell_type": "code",
   "execution_count": 20,
   "metadata": {},
   "outputs": [
    {
     "data": {
      "text/plain": [
       "<matplotlib.image.AxesImage at 0x1b3d79b54a8>"
      ]
     },
     "execution_count": 20,
     "metadata": {},
     "output_type": "execute_result"
    },
    {
     "data": {
      "image/png": "[encoded data removed]",
      "text/plain": [
       "<Figure size 432x288 with 1 Axes>"
      ]
     },
     "metadata": {
      "needs_background": "light"
     },
     "output_type": "display_data"
    }
   ],
   "source": [
    "import matplotlib.pyplot as plt\n",
    "\n",
    "plt.imshow(X_train[200], cmap=\"gray\")"
   ]
  },
  {
   "cell_type": "code",
   "execution_count": 21,
   "metadata": {},
   "outputs": [
    {
     "data": {
      "text/plain": [
       "((1000, 10), (300, 10))"
      ]
     },
     "execution_count": 21,
     "metadata": {},
     "output_type": "execute_result"
    }
   ],
   "source": [
    "y_train_en = pd.get_dummies(y_train)\n",
    "y_test_en = pd.get_dummies(y_test)\n",
    "\n",
    "y_train_en.shape, y_test_en.shape"
   ]
  },
  {
   "cell_type": "markdown",
   "metadata": {},
   "source": [
    "이미지 전처리"
   ]
  },
  {
   "cell_type": "code",
   "execution_count": 23,
   "metadata": {},
   "outputs": [],
   "source": [
    "# 이미지를 (28, 28)에서 (244, 244) 크기로 변경\n",
    "from PIL import Image\n",
    "import numpy as np\n",
    "\n",
    "train_resize_list = []\n",
    "\n",
    "for i in range(len(X_train)) :\n",
    "    train_resize_img = Image.fromarray(X_train[i]).resize((244, 244))\n",
    "    train_resize_list.append(np.array(train_resize_img))\n",
    "\n",
    "test_resize_list = []\n",
    "\n",
    "for i in range(len(X_test)) :\n",
    "    test_resize_img = Image.fromarray(X_test[i]).resize((244, 244))\n",
    "    test_resize_list.append(np.array(test_resize_img))    "
   ]
  },
  {
   "cell_type": "code",
   "execution_count": 24,
   "metadata": {},
   "outputs": [
    {
     "data": {
      "text/plain": [
       "((1000, 244, 244), (300, 244, 244))"
      ]
     },
     "execution_count": 24,
     "metadata": {},
     "output_type": "execute_result"
    }
   ],
   "source": [
    "# 리스트를 numpy array\n",
    "X_train_resized = np.array(train_resize_list)\n",
    "X_test_resized = np.array(test_resize_list)\n",
    "\n",
    "X_train_resized.shape, X_test_resized.shape"
   ]
  },
  {
   "cell_type": "code",
   "execution_count": 26,
   "metadata": {},
   "outputs": [
    {
     "data": {
      "text/plain": [
       "((1000, 244, 244, 1), (300, 244, 244, 1))"
      ]
     },
     "execution_count": 26,
     "metadata": {},
     "output_type": "execute_result"
    }
   ],
   "source": [
    "# 색상 차원 추가\n",
    "X_train_resized = X_train_resized.reshape(X_train_resized.shape[0], 244, 244, 1)\n",
    "X_test_resized = X_test_resized.reshape(X_test_resized.shape[0], 244, 244, 1)\n",
    "\n",
    "X_train_resized.shape, X_test_resized.shape"
   ]
  },
  {
   "cell_type": "markdown",
   "metadata": {},
   "source": [
    "학습"
   ]
  },
  {
   "cell_type": "code",
   "execution_count": 27,
   "metadata": {},
   "outputs": [],
   "source": [
    "import numpy as np\n",
    "import tensorflow as tf\n",
    "\n",
    "seed = 0\n",
    "np.random.seed(seed)\n",
    "tf.random.set_seed(seed)"
   ]
  },
  {
   "cell_type": "code",
   "execution_count": 35,
   "metadata": {},
   "outputs": [
    {
     "name": "stdout",
     "output_type": "stream",
     "text": [
      "Model: \"sequential_1\"\n",
      "_________________________________________________________________\n",
      "Layer (type)                 Output Shape              Param #   \n",
      "=================================================================\n",
      "conv2d_3 (Conv2D)            (None, 242, 242, 32)      320       \n",
      "_________________________________________________________________\n",
      "max_pooling2d_3 (MaxPooling2 (None, 121, 121, 32)      0         \n",
      "_________________________________________________________________\n",
      "conv2d_4 (Conv2D)            (None, 119, 119, 128)     36992     \n",
      "_________________________________________________________________\n",
      "max_pooling2d_4 (MaxPooling2 (None, 59, 59, 128)       0         \n",
      "_________________________________________________________________\n",
      "conv2d_5 (Conv2D)            (None, 57, 57, 256)       295168    \n",
      "_________________________________________________________________\n",
      "max_pooling2d_5 (MaxPooling2 (None, 28, 28, 256)       0         \n",
      "_________________________________________________________________\n",
      "flatten_1 (Flatten)          (None, 200704)            0         \n",
      "_________________________________________________________________\n",
      "dropout_1 (Dropout)          (None, 200704)            0         \n",
      "_________________________________________________________________\n",
      "dense_2 (Dense)              (None, 512)               102760960 \n",
      "_________________________________________________________________\n",
      "dense_3 (Dense)              (None, 10)                5130      \n",
      "=================================================================\n",
      "Total params: 103,098,570\n",
      "Trainable params: 103,098,570\n",
      "Non-trainable params: 0\n",
      "_________________________________________________________________\n"
     ]
    }
   ],
   "source": [
    "from tensorflow.keras.models import Sequential\n",
    "from tensorflow.keras.layers import Dense, Dropout\n",
    "from tensorflow.keras.layers import Conv2D, MaxPooling2D, Flatten\n",
    "\n",
    "model1 = Sequential()\n",
    "\n",
    "model1.add(Conv2D(32, (3,3), input_shape=(244, 244, 1),\n",
    "                 activation=\"relu\"))\n",
    "model1.add(MaxPooling2D((2,2)))\n",
    "model1.add(Conv2D(128, (3,3),activation=\"relu\"))\n",
    "model1.add(MaxPooling2D((2,2)))\n",
    "model1.add(Conv2D(256, (3,3),activation=\"relu\"))\n",
    "model1.add(MaxPooling2D((2,2)))\n",
    "\n",
    "model1.add(Flatten())\n",
    "\n",
    "model1.add(Dropout(0.5))\n",
    "model1.add(Dense(512, activation=\"relu\"))\n",
    "model1.add(Dense(10, activation=\"softmax\"))\n",
    "\n",
    "model1.summary()"
   ]
  },
  {
   "cell_type": "code",
   "execution_count": 36,
   "metadata": {},
   "outputs": [],
   "source": [
    "model1.compile(loss=\"categorical_crossentropy\",\n",
    "               optimizer=tf.keras.optimizers.Adam(lr=0.0001),\n",
    "               metrics=[\"acc\"])"
   ]
  },
  {
   "cell_type": "code",
   "execution_count": 37,
   "metadata": {},
   "outputs": [
    {
     "name": "stdout",
     "output_type": "stream",
     "text": [
      "Train on 1000 samples, validate on 300 samples\n",
      "Epoch 1/100\n",
      "1000/1000 [==============================] - 10s 10ms/sample - loss: 8.1938 - acc: 0.6600 - val_loss: 0.6320 - val_acc: 0.8033\n",
      "Epoch 2/100\n",
      "1000/1000 [==============================] - 4s 4ms/sample - loss: 0.3552 - acc: 0.8800 - val_loss: 0.5826 - val_acc: 0.8033\n",
      "Epoch 3/100\n",
      "1000/1000 [==============================] - 4s 4ms/sample - loss: 0.2210 - acc: 0.9270 - val_loss: 0.7099 - val_acc: 0.7933\n",
      "Epoch 4/100\n",
      "1000/1000 [==============================] - 9s 9ms/sample - loss: 0.1003 - acc: 0.9640 - val_loss: 0.6123 - val_acc: 0.8333\n",
      "Epoch 5/100\n",
      "1000/1000 [==============================] - 4s 4ms/sample - loss: 0.0704 - acc: 0.9760 - val_loss: 0.7068 - val_acc: 0.8333\n",
      "Epoch 6/100\n",
      "1000/1000 [==============================] - 4s 4ms/sample - loss: 0.0557 - acc: 0.9780 - val_loss: 0.7782 - val_acc: 0.8300\n",
      "Epoch 7/100\n",
      "1000/1000 [==============================] - 9s 9ms/sample - loss: 0.0537 - acc: 0.9790 - val_loss: 0.7626 - val_acc: 0.8500\n",
      "Epoch 8/100\n",
      "1000/1000 [==============================] - 4s 4ms/sample - loss: 0.0429 - acc: 0.9880 - val_loss: 1.0648 - val_acc: 0.8333\n",
      "Epoch 9/100\n",
      "1000/1000 [==============================] - 4s 4ms/sample - loss: 0.0425 - acc: 0.9900 - val_loss: 0.9203 - val_acc: 0.8300\n",
      "Epoch 10/100\n",
      "1000/1000 [==============================] - 4s 4ms/sample - loss: 0.0369 - acc: 0.9880 - val_loss: 1.2289 - val_acc: 0.8133\n",
      "Epoch 11/100\n",
      "1000/1000 [==============================] - 4s 4ms/sample - loss: 0.0582 - acc: 0.9810 - val_loss: 1.2400 - val_acc: 0.8233\n",
      "Epoch 12/100\n",
      "1000/1000 [==============================] - 4s 4ms/sample - loss: 0.0787 - acc: 0.9800 - val_loss: 1.0623 - val_acc: 0.8233\n",
      "Epoch 13/100\n",
      "1000/1000 [==============================] - 4s 4ms/sample - loss: 0.0121 - acc: 0.9960 - val_loss: 1.3719 - val_acc: 0.8100\n",
      "Epoch 14/100\n",
      "1000/1000 [==============================] - 4s 4ms/sample - loss: 0.0411 - acc: 0.9920 - val_loss: 1.2567 - val_acc: 0.8267\n",
      "Epoch 15/100\n",
      "1000/1000 [==============================] - 4s 4ms/sample - loss: 0.0407 - acc: 0.9880 - val_loss: 1.2947 - val_acc: 0.8267\n",
      "Epoch 16/100\n",
      "1000/1000 [==============================] - 4s 4ms/sample - loss: 0.0548 - acc: 0.9830 - val_loss: 1.2943 - val_acc: 0.8100\n",
      "Epoch 17/100\n",
      "1000/1000 [==============================] - 4s 4ms/sample - loss: 0.0382 - acc: 0.9910 - val_loss: 1.0939 - val_acc: 0.8200\n",
      "Epoch 18/100\n",
      "1000/1000 [==============================] - 4s 4ms/sample - loss: 0.0144 - acc: 0.9980 - val_loss: 1.2325 - val_acc: 0.8200\n",
      "Epoch 19/100\n",
      "1000/1000 [==============================] - 4s 4ms/sample - loss: 7.9904e-04 - acc: 1.0000 - val_loss: 1.1932 - val_acc: 0.8233\n",
      "Epoch 20/100\n",
      "1000/1000 [==============================] - 4s 4ms/sample - loss: 2.8033e-04 - acc: 1.0000 - val_loss: 1.1992 - val_acc: 0.8200\n",
      "Epoch 21/100\n",
      "1000/1000 [==============================] - 4s 4ms/sample - loss: 1.9967e-04 - acc: 1.0000 - val_loss: 1.2012 - val_acc: 0.8167\n",
      "Epoch 22/100\n",
      "1000/1000 [==============================] - 4s 4ms/sample - loss: 1.4709e-04 - acc: 1.0000 - val_loss: 1.2068 - val_acc: 0.8233\n",
      "Epoch 23/100\n",
      "1000/1000 [==============================] - 4s 4ms/sample - loss: 1.3143e-04 - acc: 1.0000 - val_loss: 1.2159 - val_acc: 0.8233\n",
      "Epoch 24/100\n",
      "1000/1000 [==============================] - 4s 4ms/sample - loss: 7.5608e-05 - acc: 1.0000 - val_loss: 1.2287 - val_acc: 0.8233\n",
      "Epoch 25/100\n",
      "1000/1000 [==============================] - 4s 4ms/sample - loss: 4.6290e-05 - acc: 1.0000 - val_loss: 1.2231 - val_acc: 0.8200\n",
      "Epoch 26/100\n",
      "1000/1000 [==============================] - 4s 4ms/sample - loss: 6.4397e-05 - acc: 1.0000 - val_loss: 1.2324 - val_acc: 0.8267\n",
      "Epoch 27/100\n",
      "1000/1000 [==============================] - 4s 4ms/sample - loss: 6.6587e-05 - acc: 1.0000 - val_loss: 1.2289 - val_acc: 0.8233\n"
     ]
    }
   ],
   "source": [
    "from tensorflow.keras.callbacks import ModelCheckpoint, EarlyStopping\n",
    "import os\n",
    "\n",
    "MODEL_DIR = \"./model/\"\n",
    "\n",
    "if not os.path.exists(MODEL_DIR) :\n",
    "    os.mkdir(MODEL_DIR)\n",
    "    \n",
    "filepath = MODEL_DIR + \"fashion_{epoch:04d}_{val_acc:.3f}.hdf5\"    \n",
    "\n",
    "mc = ModelCheckpoint(filepath = filepath,\n",
    "                     monitor=\"val_acc\",\n",
    "                     save_best_only = True)\n",
    "\n",
    "es = EarlyStopping(monitor=\"val_acc\", patience=20)\n",
    "\n",
    "h1 = model1.fit(X_train_resized, y_train_en,\n",
    "               epochs=100, batch_size=10,\n",
    "               validation_data=(X_test_resized, y_test_en),\n",
    "               callbacks=[mc, es])"
   ]
  },
  {
   "cell_type": "code",
   "execution_count": 40,
   "metadata": {},
   "outputs": [
    {
     "data": {
      "text/plain": [
       "<matplotlib.legend.Legend at 0x1b3bc383a20>"
      ]
     },
     "execution_count": 40,
     "metadata": {},
     "output_type": "execute_result"
    },
    {
     "data": {
      "image/png": "[encoded data removed]",
      "text/plain": [
       "<Figure size 432x288 with 1 Axes>"
      ]
     },
     "metadata": {
      "needs_background": "light"
     },
     "output_type": "display_data"
    }
   ],
   "source": [
    "import matplotlib.pyplot as plt \n",
    "\n",
    "plt.plot(h1.history[\"acc\"], label=\"Train\")\n",
    "plt.plot(h1.history[\"val_acc\"], label=\"Test\")\n",
    "plt.legend()"
   ]
  },
  {
   "cell_type": "code",
   "execution_count": 46,
   "metadata": {},
   "outputs": [
    {
     "name": "stdout",
     "output_type": "stream",
     "text": [
      "[5.2419396e-14 1.7942373e-11 1.4258748e-13 5.0548758e-13 2.6150554e-11\n",
      " 6.4588153e-09 1.9274330e-12 3.0652789e-04 5.2238476e-09 9.9969351e-01]\n",
      "9\n"
     ]
    }
   ],
   "source": [
    "pred = model1.predict(X_test_resized)\n",
    "\n",
    "print(pred[0])\n",
    "print(y_test[0])"
   ]
  },
  {
   "cell_type": "markdown",
   "metadata": {},
   "source": [
    "Xception을 이용한 전이학습"
   ]
  },
  {
   "cell_type": "code",
   "execution_count": 47,
   "metadata": {},
   "outputs": [
    {
     "data": {
      "text/plain": [
       "((1000, 244, 244, 3), (300, 244, 244, 3))"
      ]
     },
     "execution_count": 47,
     "metadata": {},
     "output_type": "execute_result"
    }
   ],
   "source": [
    "# 그레이 이미지 채널을 칼라이미지 채널 (B, G, R)로 변경 \n",
    "X_train_resized = np.repeat(X_train_resized, 3, axis=3)\n",
    "X_test_resized = np.repeat(X_test_resized, 3, axis=3)\n",
    "\n",
    "X_train_resized.shape, X_test_resized.shape"
   ]
  },
  {
   "cell_type": "code",
   "execution_count": 61,
   "metadata": {},
   "outputs": [],
   "source": [
    "from tensorflow.keras.applications import Xception\n",
    "\n",
    "conv_xception = Xception(include_top = False,\n",
    "                         weights=\"imagenet\",\n",
    "                         input_shape=(244, 244, 3))\n",
    "# Xception 모델의 파라미터 갱신을 갱신하도록 함\n",
    "conv_xception.trainable = True"
   ]
  },
  {
   "cell_type": "code",
   "execution_count": 62,
   "metadata": {},
   "outputs": [
    {
     "name": "stdout",
     "output_type": "stream",
     "text": [
      "Model: \"sequential_6\"\n",
      "_________________________________________________________________\n",
      "Layer (type)                 Output Shape              Param #   \n",
      "=================================================================\n",
      "xception (Model)             (None, 8, 8, 2048)        20861480  \n",
      "_________________________________________________________________\n",
      "flatten_4 (Flatten)          (None, 131072)            0         \n",
      "_________________________________________________________________\n",
      "dropout_4 (Dropout)          (None, 131072)            0         \n",
      "_________________________________________________________________\n",
      "dense_8 (Dense)              (None, 512)               67109376  \n",
      "_________________________________________________________________\n",
      "dense_9 (Dense)              (None, 10)                5130      \n",
      "=================================================================\n",
      "Total params: 87,975,986\n",
      "Trainable params: 87,921,458\n",
      "Non-trainable params: 54,528\n",
      "_________________________________________________________________\n"
     ]
    }
   ],
   "source": [
    "from tensorflow.keras.models import Sequential\n",
    "from tensorflow.keras.layers import Dense, Dropout\n",
    "from tensorflow.keras.layers import Conv2D, MaxPooling2D, Flatten\n",
    "\n",
    "model2 = Sequential()\n",
    "model2.add(conv_xception)\n",
    "model2.add(Flatten())\n",
    "\n",
    "model2.add(Dropout(0.5))\n",
    "model2.add(Dense(512, activation=\"relu\"))\n",
    "model2.add(Dense(10, activation=\"softmax\"))\n",
    "\n",
    "model2.summary()"
   ]
  },
  {
   "cell_type": "code",
   "execution_count": 63,
   "metadata": {},
   "outputs": [],
   "source": [
    "model2.compile(loss=\"categorical_crossentropy\",\n",
    "               optimizer=tf.keras.optimizers.Adam(lr=0.0001),\n",
    "               metrics=[\"acc\"])"
   ]
  },
  {
   "cell_type": "code",
   "execution_count": 65,
   "metadata": {},
   "outputs": [
    {
     "name": "stdout",
     "output_type": "stream",
     "text": [
      "Train on 1000 samples, validate on 300 samples\n",
      "Epoch 1/10\n",
      "1000/1000 [==============================] - 25s 25ms/sample - loss: 0.0492 - acc: 0.9880 - val_loss: 0.7685 - val_acc: 0.8633\n",
      "Epoch 2/10\n",
      "1000/1000 [==============================] - 25s 25ms/sample - loss: 0.0473 - acc: 0.9810 - val_loss: 0.6380 - val_acc: 0.8700\n",
      "Epoch 3/10\n",
      "1000/1000 [==============================] - 16s 16ms/sample - loss: 0.0718 - acc: 0.9800 - val_loss: 0.6919 - val_acc: 0.8533\n",
      "Epoch 4/10\n",
      "1000/1000 [==============================] - 16s 16ms/sample - loss: 0.0827 - acc: 0.9720 - val_loss: 0.7915 - val_acc: 0.8333\n",
      "Epoch 5/10\n",
      "1000/1000 [==============================] - 16s 16ms/sample - loss: 0.0826 - acc: 0.9860 - val_loss: 0.7460 - val_acc: 0.8267\n"
     ]
    }
   ],
   "source": [
    "from tensorflow.keras.callbacks import ModelCheckpoint, EarlyStopping\n",
    "import os\n",
    "\n",
    "MODEL_DIR = \"./model/\"\n",
    "\n",
    "if not os.path.exists(MODEL_DIR) :\n",
    "    os.mkdir(MODEL_DIR)\n",
    "    \n",
    "filepath = MODEL_DIR + \"fashion2_{epoch:04d}_{val_acc:.3f}.hdf5\"    \n",
    "\n",
    "mc = ModelCheckpoint(filepath = filepath,\n",
    "                     monitor=\"val_acc\",\n",
    "                     save_best_only = True)\n",
    "\n",
    "es = EarlyStopping(monitor=\"val_acc\", patience=3)\n",
    "\n",
    "h2 = model2.fit(X_train_resized, y_train_en,\n",
    "               epochs=10, batch_size=10,\n",
    "               validation_data=(X_test_resized, y_test_en),\n",
    "               callbacks=[mc, es])"
   ]
  },
  {
   "cell_type": "code",
   "execution_count": 66,
   "metadata": {},
   "outputs": [
    {
     "data": {
      "text/plain": [
       "<matplotlib.legend.Legend at 0x1b5d55ad320>"
      ]
     },
     "execution_count": 66,
     "metadata": {},
     "output_type": "execute_result"
    },
    {
     "data": {
      "image/png": "[encoded data removed]",
      "text/plain": [
       "<Figure size 432x288 with 1 Axes>"
      ]
     },
     "metadata": {
      "needs_background": "light"
     },
     "output_type": "display_data"
    }
   ],
   "source": [
    "import matplotlib.pyplot as plt \n",
    "\n",
    "plt.plot(h2.history[\"acc\"], label=\"Train\")\n",
    "plt.plot(h2.history[\"val_acc\"], label=\"Test\")\n",
    "plt.legend()"
   ]
  },
  {
   "cell_type": "code",
   "execution_count": null,
   "metadata": {},
   "outputs": [],
   "source": []
  },
  {
   "cell_type": "code",
   "execution_count": null,
   "metadata": {},
   "outputs": [],
   "source": []
  },
  {
   "cell_type": "code",
   "execution_count": null,
   "metadata": {},
   "outputs": [],
   "source": []
  },
  {
   "cell_type": "code",
   "execution_count": null,
   "metadata": {},
   "outputs": [],
   "source": []
  }
 ],
 "metadata": {
  "kernelspec": {
   "display_name": "Python 3",
   "language": "python",
   "name": "python3"
  },
  "language_info": {
   "codemirror_mode": {
    "name": "ipython",
    "version": 3
   },
   "file_extension": ".py",
   "mimetype": "text/x-python",
   "name": "python",
   "nbconvert_exporter": "python",
   "pygments_lexer": "ipython3",
   "version": "3.6.12"
  }
 },
 "nbformat": 4,
 "nbformat_minor": 4
}
