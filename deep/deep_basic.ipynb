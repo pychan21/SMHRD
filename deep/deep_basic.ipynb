{
 "cells": [
  {
   "cell_type": "code",
   "execution_count": 3,
   "id": "dated-ground",
   "metadata": {},
   "outputs": [],
   "source": [
    "import pandas as pd\n",
    "X = [[0,0],[0,1],[1,0],[1,1]]\n",
    "y = [0,0,0,1]\n",
    "X = pd.DataFrame(X)\n",
    "y = pd.DataFrame(y)"
   ]
  },
  {
   "cell_type": "markdown",
   "id": "broad-commander",
   "metadata": {},
   "source": [
    "#####  데이터 원핫 인코딩"
   ]
  },
  {
   "cell_type": "code",
   "execution_count": 11,
   "id": "another-nebraska",
   "metadata": {},
   "outputs": [],
   "source": [
    "# pd.get_dummies() -> 원핫 인코딩 시켜줌\n",
    "y_en = pd.get_dummies(y)\n",
    "X_en = pd.get_dummies(X)"
   ]
  },
  {
   "cell_type": "markdown",
   "id": "charitable-smile",
   "metadata": {},
   "source": [
    "##### train, test 변환"
   ]
  },
  {
   "cell_type": "code",
   "execution_count": null,
   "id": "fiscal-crisis",
   "metadata": {},
   "outputs": [],
   "source": [
    "# train_test_split -> test,train으로 나눠줌\n",
    "# random_starte -> seed 패턴과 비슷한 개념\n",
    "# test_size -> train과 test의 비중을 정해줌(기본값은 0.75와 0.25임)\n",
    "from sklearn.model_selection import train_test_split\n",
    "X_train, X_test, y_train, y_test = train_test_split(X_en,y_en,\n",
    "                                                   random_state=0,\n",
    "                                                    test_size=0.3)"
   ]
  },
  {
   "cell_type": "code",
   "execution_count": null,
   "id": "working-algeria",
   "metadata": {},
   "outputs": [],
   "source": [
    "# shape\n",
    "X_train.shape, X_test.shape, y_train.shape, y_test.shape"
   ]
  },
  {
   "cell_type": "code",
   "execution_count": null,
   "id": "cubic-awareness",
   "metadata": {},
   "outputs": [],
   "source": [
    "# 시드 값 초기화\n",
    "# seed = ?\n",
    "# 랜덤하게 초기화를 시킴, 뒤에 숫자는 초기화를 시키는 패턴임(큰 의미없음)\n",
    "np.random.seed(3)\n",
    "tf.random.set_seed(3)"
   ]
  },
  {
   "cell_type": "code",
   "execution_count": 2,
   "id": "authentic-corps",
   "metadata": {},
   "outputs": [
    {
     "name": "stdout",
     "output_type": "stream",
     "text": [
      "Model: \"sequential\"\n",
      "_________________________________________________________________\n",
      "Layer (type)                 Output Shape              Param #   \n",
      "=================================================================\n",
      "dense (Dense)                (None, 0)                 0         \n",
      "_________________________________________________________________\n",
      "dense_1 (Dense)              (None, 0)                 0         \n",
      "_________________________________________________________________\n",
      "dense_2 (Dense)              (None, 0)                 0         \n",
      "_________________________________________________________________\n",
      "dense_3 (Dense)              (None, 0)                 0         \n",
      "_________________________________________________________________\n",
      "dense_4 (Dense)              (None, 0)                 0         \n",
      "=================================================================\n",
      "Total params: 0\n",
      "Trainable params: 0\n",
      "Non-trainable params: 0\n",
      "_________________________________________________________________\n"
     ]
    }
   ],
   "source": [
    "# 딥러닝 구동시 필요한 케라스 함수 호출\n",
    "# Sequential -> 케라스에서 층을 쌓기 위해 사용하는 함수\n",
    "# Dense -> 실제 신경망 층을 설정하는 기능\n",
    "from tensorflow.keras.models import Sequential\n",
    "from tensorflow.keras.layers import Dense , Dropout\n",
    "\n",
    "# Dropout -> 과적합 방지를 위해 사용함\n",
    "# model.add(Dropout(0.50)) -> model에 데이터중 50%를 랜덤하게 날리고 ,\n",
    "#살아있는 데이터에 가중치를 줘서 날린 데이터만큼 만들어줌\n",
    "\n",
    "model = Sequential()\n",
    "# 입력층\n",
    "# add -> 층 추가\n",
    "# activation -> 활성화 함수를 설정하는 기능(대부분 relu 사용)\n",
    "# sigmoid -> 이진분류(1아니면 0)\n",
    "# input_dim -> 입력할 노드 수(특성수)\n",
    "model.add(Dense(0, input_dim= 0 , activation =\"relu\"))\n",
    "model.add(Dropout(0.50))\n",
    "# 은닉층\n",
    "# 은닉층은 사용자가 직접 설계를 해줄 수 있음\n",
    "model.add(Dense(0, activation =\"relu\"))\n",
    "model.add(Dropout(0.50))\n",
    "model.add(Dense(0, activation =\"relu\"))\n",
    "model.add(Dropout(0.50))\n",
    "model.add(Dense(0, activation =\"relu\"))\n",
    "model.add(Dropout(0.50))\n",
    "\n",
    "# 출력층\n",
    "# 회귀 -> linear(기본값이라 생략가능)\n",
    "# 이진분류 -> sigmoid\n",
    "# 원핫 인코딩을 했다면 softmax를 사용해야함\n",
    "# 다중분류 -> softmax(각각 확률값으로 나옴 총합은 1)\n",
    "model.add(Dense(0,activation=\"softmax\"))\n",
    "\n",
    "model.summary()"
   ]
  },
  {
   "cell_type": "markdown",
   "id": "realistic-petroleum",
   "metadata": {},
   "source": [
    "##### CNN 모델"
   ]
  },
  {
   "cell_type": "code",
   "execution_count": null,
   "id": "light-beaver",
   "metadata": {},
   "outputs": [],
   "source": [
    "from tensorflow.keras.models import Sequential\n",
    "from tensorflow.keras.layers import Dense, Dropout\n",
    "from tensorflow.keras.layers import Conv2D, MaxPooling2D, Flatten\n",
    "\n",
    "model = Sequential()\n",
    "\n",
    "# 입력층 (CNN층)\n",
    "# filters : 필터의 수, 출력의 수 (출력되는 이미지의 개수)\n",
    "# kernel_size : 필터의 크기 (3,3) (5,5), (7,7)\n",
    "# input_shape : 입력데이터의 크기 (2차원 이상인 경우에 사용)\n",
    "# padding : 컨벌루션 연산때문에 작아지는 이미지 크기를 유지할 것인 여부\n",
    "# same : 항상 같은 크기로 이미지를 유지해준다.  - padding\n",
    "# valid : 컬벌루션으로 줄어든 상태를 그대로 유지\n",
    "model.add(Conv2D(filters = 32 ,\n",
    "                     kernel_size = (3,3) , \n",
    "                     input_shape = (28,28,1),\n",
    "                     padding = \"valid\" , \n",
    "                     activation = \"relu\"))\n",
    "model.add(MaxPooling2D(pool_size = (2,2)))\n",
    "# maxpooling2d -> ex)2,2 라면 가로 2 세로 2 로 필터를 추출\n",
    "# 은닉층에 넣기 전에 이전 데이터들을 1차원으로 변환\n",
    "model.add(Flatten())\n",
    "\n",
    "#은닉층\n",
    "model.add(Dense(units = 128, activation = \"relu\"))\n",
    "model.add(Dropout(0.2))\n",
    "# 출력층\n",
    "model.add(Dense(units = 10, activation = \"softmax\"))\n",
    "\n",
    "model.summary()"
   ]
  },
  {
   "cell_type": "markdown",
   "id": "impressive-shirt",
   "metadata": {},
   "source": [
    "##### 신경망 컴파일\n",
    "- 공식처럼 정해짐\n",
    "- 틀에 맞게 사용할 것\n",
    "\n",
    "- 손실 함수 -> loss\n",
    "- 최적화 도구 -> optimizer\n",
    "- 평가 도구 -> metrics"
   ]
  },
  {
   "cell_type": "markdown",
   "id": "vocal-blocking",
   "metadata": {},
   "source": [
    "### loss\n",
    "- 회귀 -> mean_square_error 또는 mse\n",
    "\n",
    "- 이진 분류 -> binary_crossentropy\n",
    "\n",
    "- 다중 분류 -> categorical_crossentropy"
   ]
  },
  {
   "cell_type": "markdown",
   "id": "twenty-dependence",
   "metadata": {},
   "source": [
    "##### model.compile"
   ]
  },
  {
   "cell_type": "code",
   "execution_count": null,
   "id": "french-inclusion",
   "metadata": {},
   "outputs": [],
   "source": [
    "# optimizer -> 최적화 도구(씨맥감독)\n",
    "# metrics -> 평가도구\n",
    "# 평가 도구에선 adam이 값이 제일 잘나옴\n",
    "# acc -> 정확도(찍어줌)\n",
    "model.compile(loss=\"categorical_crossentropy\",\n",
    "             optimizer=\"adam\",\n",
    "             metrics=[\"acc\"])"
   ]
  },
  {
   "cell_type": "markdown",
   "id": "consistent-singing",
   "metadata": {},
   "source": [
    "##### 학습"
   ]
  },
  {
   "cell_type": "code",
   "execution_count": null,
   "id": "alive-presence",
   "metadata": {},
   "outputs": [],
   "source": [
    "# fit(특성데이터, 라벨데이터, epochs=값, batch_size=값)\n",
    "# epochs : 오차 역전파를 몇 번 반복할 것인지 설정 (너무 많이 돌리면 과대적합이 발생함)\n",
    "# batch_size : 학습할  몇 개 데이터씩 사용할 것인지 설정\n",
    "\n",
    "model.fit(X, y, epochs=2000, batch_size=4)"
   ]
  },
  {
   "cell_type": "markdown",
   "id": "informative-yacht",
   "metadata": {},
   "source": [
    "#####  평가"
   ]
  },
  {
   "cell_type": "code",
   "execution_count": null,
   "id": "individual-hayes",
   "metadata": {},
   "outputs": [],
   "source": [
    "# evaluate() -> train,test data를 통해 학습한 모델에 대한 정확도 평가\n",
    "print(\"훈련 정확도 : \", model.evaluate(train_images, train_labels_en))\n",
    "print(\"테스트 정확도 : \", model.evaluate(test_images, test_labels_en))"
   ]
  },
  {
   "cell_type": "code",
   "execution_count": null,
   "id": "pending-snake",
   "metadata": {},
   "outputs": [],
   "source": []
  }
 ],
 "metadata": {
  "kernelspec": {
   "display_name": "Python 3",
   "language": "python",
   "name": "python3"
  },
  "language_info": {
   "codemirror_mode": {
    "name": "ipython",
    "version": 3
   },
   "file_extension": ".py",
   "mimetype": "text/x-python",
   "name": "python",
   "nbconvert_exporter": "python",
   "pygments_lexer": "ipython3",
   "version": "3.6.12"
  }
 },
 "nbformat": 4,
 "nbformat_minor": 5
}
