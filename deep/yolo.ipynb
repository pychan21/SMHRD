{
 "cells": [
  {
   "cell_type": "code",
   "execution_count": 1,
   "id": "according-nation",
   "metadata": {},
   "outputs": [
    {
     "ename": "ModuleNotFoundError",
     "evalue": "No module named 'yolo'",
     "output_type": "error",
     "traceback": [
      "\u001b[1;31m---------------------------------------------------------------------------\u001b[0m",
      "\u001b[1;31mModuleNotFoundError\u001b[0m                       Traceback (most recent call last)",
      "\u001b[1;32m<ipython-input-1-b810d55c634f>\u001b[0m in \u001b[0;36m<module>\u001b[1;34m\u001b[0m\n\u001b[0;32m      2\u001b[0m \u001b[1;32mimport\u001b[0m \u001b[0mcv2\u001b[0m\u001b[1;33m\u001b[0m\u001b[1;33m\u001b[0m\u001b[0m\n\u001b[0;32m      3\u001b[0m \u001b[1;33m\u001b[0m\u001b[0m\n\u001b[1;32m----> 4\u001b[1;33m \u001b[1;32mfrom\u001b[0m \u001b[0myolo\u001b[0m \u001b[1;32mimport\u001b[0m \u001b[0mYOLO\u001b[0m\u001b[1;33m\u001b[0m\u001b[1;33m\u001b[0m\u001b[0m\n\u001b[0m\u001b[0;32m      5\u001b[0m \u001b[1;33m\u001b[0m\u001b[0m\n\u001b[0;32m      6\u001b[0m \u001b[0map\u001b[0m \u001b[1;33m=\u001b[0m \u001b[0margparse\u001b[0m\u001b[1;33m.\u001b[0m\u001b[0mArgumentParser\u001b[0m\u001b[1;33m(\u001b[0m\u001b[1;33m)\u001b[0m\u001b[1;33m\u001b[0m\u001b[1;33m\u001b[0m\u001b[0m\n",
      "\u001b[1;31mModuleNotFoundError\u001b[0m: No module named 'yolo'"
     ]
    }
   ],
   "source": [
    "import argparse\n",
    "import cv2\n",
    "\n",
    "from yolo import YOLO\n",
    "\n",
    "ap = argparse.ArgumentParser()\n",
    "ap.add_argument('-n', '--network', default=\"normal\", help='Network Type: normal / tiny / prn')\n",
    "ap.add_argument('-d', '--device', default=0, help='Device to use')\n",
    "ap.add_argument('-s', '--size', default=416, help='Size for yolo')\n",
    "ap.add_argument('-c', '--confidence', default=0.5, help='Confidence for yolo')\n",
    "args = ap.parse_args()\n",
    "\n",
    "classes = [\"good\", \"bad\", \"none\"]\n",
    "\n",
    "if args.network == \"normal\":\n",
    "    print(\"loading yolov4...\")\n",
    "    yolo = YOLO(\"models/mask-yolov4.cfg\", \"models/mask-yolov4.weights\", classes)\n",
    "elif args.network == \"prn\":\n",
    "    print(\"loading yolov3-tiny-prn...\")\n",
    "    yolo = YOLO(\"models/mask-yolov3-tiny-prn.cfg\", \"models/mask-yolov3-tiny-prn.weights\", classes)\n",
    "else:\n",
    "    print(\"loading yolov4-tiny...\")\n",
    "    yolo = YOLO(\"models/mask-yolov4-tiny.cfg\", \"models/mask-yolov4-tiny.weights\", classes)\n",
    "\n",
    "yolo.size = int(args.size)\n",
    "yolo.confidence = float(args.confidence)\n",
    "\n",
    "colors = [(0, 255, 0), (0, 165, 255), (0, 0, 255)]\n",
    "\n",
    "print(\"starting webcam...\")\n",
    "cv2.namedWindow(\"preview\")\n",
    "vc = cv2.VideoCapture(0)\n",
    "\n",
    "if vc.isOpened():  # try to get the first frame\n",
    "    rval, frame = vc.read()\n",
    "else:\n",
    "    rval = False\n",
    "\n",
    "while rval:\n",
    "    width, height, inference_time, results = yolo.inference(frame)\n",
    "    for detection in results:\n",
    "        id, name, confidence, x, y, w, h = detection\n",
    "        cx = x + (w / 2)\n",
    "        cy = y + (h / 2)\n",
    "\n",
    "        # draw a bounding box rectangle and label on the image\n",
    "        color = colors[id]\n",
    "        cv2.rectangle(frame, (x, y), (x + w, y + h), color, 2)\n",
    "        text = \"%s (%s)\" % (name, round(confidence, 2))\n",
    "        cv2.putText(frame, text, (x, y - 5), cv2.FONT_HERSHEY_SIMPLEX,\n",
    "                    0.5, color, 2)\n",
    "\n",
    "    cv2.imshow(\"preview\", frame)\n",
    "\n",
    "    rval, frame = vc.read()\n",
    "\n",
    "    key = cv2.waitKey(20)\n",
    "    if key == 27:  # exit on ESC\n",
    "        break\n",
    "\n",
    "cv2.destroyWindow(\"preview\")\n",
    "vc.release()"
   ]
  }
 ],
 "metadata": {
  "kernelspec": {
   "display_name": "Python 3",
   "language": "python",
   "name": "python3"
  },
  "language_info": {
   "codemirror_mode": {
    "name": "ipython",
    "version": 3
   },
   "file_extension": ".py",
   "mimetype": "text/x-python",
   "name": "python",
   "nbconvert_exporter": "python",
   "pygments_lexer": "ipython3",
   "version": "3.6.12"
  }
 },
 "nbformat": 4,
 "nbformat_minor": 5
}
