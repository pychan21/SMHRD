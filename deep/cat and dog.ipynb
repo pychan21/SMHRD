{
 "cells": [
  {
   "cell_type": "markdown",
   "id": "plain-interval",
   "metadata": {},
   "source": [
    "##### 개와 고양이 인식하기"
   ]
  },
  {
   "cell_type": "markdown",
   "id": "renewable-thriller",
   "metadata": {},
   "source": [
    "#####  데이터 구성\n",
    "\n",
    "- 총 25000(개 12500, 고양이 12500)개로 구성된 이미지 셋\n",
    "- 칼라 이미지 ,이미지의 크기는 다름\n",
    "- 미리 train , testm validataion으로 분리된 파일을 압축해둠"
   ]
  },
  {
   "cell_type": "markdown",
   "id": "stuck-trunk",
   "metadata": {},
   "source": [
    "#### 1. 압축을 풀어 폴더에 저장"
   ]
  },
  {
   "cell_type": "code",
   "execution_count": 2,
   "id": "fabulous-worry",
   "metadata": {},
   "outputs": [],
   "source": [
    "import os,os.path, shutil, zipfile"
   ]
  },
  {
   "cell_type": "code",
   "execution_count": 4,
   "id": "divine-douglas",
   "metadata": {},
   "outputs": [],
   "source": [
    "# 압축 파일명\n",
    "local_zip =\"./data/dogs-vs-cats.zip\"\n",
    "# 압축을 풀 파일을 읽어온다\n",
    "zip_ref = zipfile.ZipFile(local_zip,\"r\")\n",
    "# 압축 풀기\n",
    "zip_ref.extractall(\"./data\")\n",
    "zip_ref.close()"
   ]
  },
  {
   "cell_type": "code",
   "execution_count": 5,
   "id": "personal-cover",
   "metadata": {},
   "outputs": [],
   "source": [
    "# 압축 파일명\n",
    "local_zip =\"./data/test1.zip\"\n",
    "# 압축을 풀 파일을 읽어온다\n",
    "zip_ref = zipfile.ZipFile(local_zip,\"r\")\n",
    "# 압축 풀기\n",
    "zip_ref.extractall(\"./data\")\n",
    "zip_ref.close()"
   ]
  },
  {
   "cell_type": "code",
   "execution_count": 6,
   "id": "technical-upgrade",
   "metadata": {},
   "outputs": [],
   "source": [
    "# 압축 파일명\n",
    "local_zip =\"./data/train.zip\"\n",
    "# 압축을 풀 파일을 읽어온다\n",
    "zip_ref = zipfile.ZipFile(local_zip,\"r\")\n",
    "# 압축 풀기\n",
    "zip_ref.extractall(\"./data\")\n",
    "zip_ref.close()"
   ]
  },
  {
   "cell_type": "markdown",
   "id": "robust-reminder",
   "metadata": {},
   "source": [
    "/data/dogs_and_cats_small : 일부 데이터가 들어갈 메인 폴더\n",
    "\n",
    "/data/dogs_and_cats_small/train : 훈련 데이터가 들어갈 폴더\n",
    "\n",
    "/data/dogs_and_cats_small/train/dogs : 훈련 개 데이터가 들어갈 폴더\n",
    "\n",
    "/data/dogs_and_cats_small/train/cats : 훈련 고양이 데이터가 들어갈 폴더\n",
    "\n",
    "/data/dogs_and_cats_small/test : 테스트 데이터가 들어갈 폴더\n",
    "\n",
    "/data/dogs_and_cats_small/test/dogs : 테스트 개 데이터가 들어갈 폴더\n",
    "\n",
    "/data/dogs_and_cats_small/test/cats : 테스트 고양이 데이터가 들어갈 폴더\n",
    "\n",
    "/data/dogs_and_cats_small/validation : 검증 데이터가 들어갈 폴더\n",
    "\n",
    "/data/dogs_and_cats_small/validation/dogs : 검증 개 데이터가 들어갈 폴더\n",
    "\n",
    "/data/dogs_and_cats_small/validation/cats : 검증 고양이 데이터가 들어갈 폴더\n"
   ]
  },
  {
   "cell_type": "code",
   "execution_count": 3,
   "id": "perfect-audio",
   "metadata": {},
   "outputs": [],
   "source": [
    "# 각 폴더를 생성\n",
    "# 훈련 데이터가 들어있는 폴더\n",
    "original_dataset_dir = \"./data/train\"\n",
    "# 일부 데이터가 들어갈 폴더 생성\n",
    "base_dir =\"./data/dogs_and_cats_small\"\n",
    "base_dir1 =\"./data/dogs_and_cats_small/train\"\n",
    "base_dir2 =\"./data/dogs_and_cats_small/train/dogs\"\n",
    "base_dir3 =\"./data/dogs_and_cats_small/train/cats\"\n",
    "base_dir4 =\"./data/dogs_and_cats_small/test\"\n",
    "base_dir5 =\"./data/dogs_and_cats_small/test/cats\"\n",
    "base_dir6 =\"./data/dogs_and_cats_small/test/dogs\"\n",
    "base_dir7 =\"./data/dogs_and_cats_small/validation\"\n",
    "base_dir8 =\"./data/dogs_and_cats_small/validation/dogs\"\n",
    "base_dir9 =\"./data/dogs_and_cats_small/validation/cats\"\n",
    "\n",
    "\n",
    "\n",
    "if not os.path.exists(base_dir):\n",
    "    os.mkdir(base_dir)\n",
    "\n",
    "if not os.path.exists(base_dir1):\n",
    "    os.mkdir(base_dir1)\n",
    "\n",
    "if not os.path.exists(base_dir2):\n",
    "    os.mkdir(base_dir2)\n",
    "\n",
    "if not os.path.exists(base_dir3):\n",
    "    os.mkdir(base_dir3)\n",
    "\n",
    "if not os.path.exists(base_dir4):\n",
    "    os.mkdir(base_dir4)\n",
    "\n",
    "if not os.path.exists(base_dir5):\n",
    "    os.mkdir(base_dir5)\n",
    "\n",
    "if not os.path.exists(base_dir6):\n",
    "    os.mkdir(base_dir6)\n",
    "\n",
    "if not os.path.exists(base_dir7):\n",
    "    os.mkdir(base_dir7)\n",
    "\n",
    "if not os.path.exists(base_dir8):\n",
    "    os.mkdir(base_dir8)\n",
    "\n",
    "if not os.path.exists(base_dir9):\n",
    "    os.mkdir(base_dir9)\n"
   ]
  },
  {
   "cell_type": "markdown",
   "id": "macro-canadian",
   "metadata": {},
   "source": [
    "#####  생성된 폴더로 각각 이미지들을 복사\n",
    "- 훈련 고양이 이미지 폴더 : 1000개 \n",
    "- 훈련 개 이미지 폴더 : 1000개 \n",
    "- 테스트 고양이 이미지 폴더 : 1000개\n",
    "- 테스트 개 이미지 폴더 : 1000개 \n",
    "- 검증 고양이 이미지 폴더 : 500개 \n",
    "- 검증 개 이미지 폴더 : 500개 "
   ]
  },
  {
   "cell_type": "code",
   "execution_count": 8,
   "id": "brave-westminster",
   "metadata": {},
   "outputs": [],
   "source": [
    "# 처음부터 1000개의 고양이 이미지 파일을 train_cats_dir 폴더로 복사\n",
    "fnames = [\"cat.{}.jpg\".format(i) for i in range(1000)]\n",
    "\n",
    "for fname in fnames:\n",
    "    # 원래 이미지가 있는 폴더와 파일명\n",
    "    src = os.path.join(original_dataset_dir, fname)\n",
    "    # 복사할 위치의 폴더와 파일 명\n",
    "    dst = os.path.join(base_dir3,fname)\n",
    "    \n",
    "    shutil.copyfile(src,dst)"
   ]
  },
  {
   "cell_type": "code",
   "execution_count": 9,
   "id": "hourly-leather",
   "metadata": {},
   "outputs": [],
   "source": [
    "# 처음부터 1000개의 고양이 이미지 파일을 train_cats_dir 폴더로 복사\n",
    "fnames = [\"dog.{}.jpg\".format(i) for i in range(1000)]\n",
    "\n",
    "for fname in fnames:\n",
    "    # 원래 이미지가 있는 폴더와 파일명\n",
    "    src = os.path.join(original_dataset_dir, fname)\n",
    "    # 복사할 위치의 폴더와 파일 명\n",
    "    dst = os.path.join(base_dir2,fname)\n",
    "    \n",
    "    shutil.copyfile(src,dst)"
   ]
  },
  {
   "cell_type": "code",
   "execution_count": 10,
   "id": "thousand-retrieval",
   "metadata": {},
   "outputs": [],
   "source": [
    "# 처음부터 1000개의 고양이 이미지 파일을 train_cats_dir 폴더로 복사\n",
    "fnames = [\"dog.{}.jpg\".format(i) for i in range(1000,1500)]\n",
    "\n",
    "for fname in fnames:\n",
    "    # 원래 이미지가 있는 폴더와 파일명\n",
    "    src = os.path.join(original_dataset_dir, fname)\n",
    "    # 복사할 위치의 폴더와 파일 명\n",
    "    dst = os.path.join(base_dir6,fname)\n",
    "    \n",
    "    shutil.copyfile(src,dst)"
   ]
  },
  {
   "cell_type": "code",
   "execution_count": 11,
   "id": "alien-ceramic",
   "metadata": {},
   "outputs": [],
   "source": [
    "# 처음부터 1000개의 고양이 이미지 파일을 train_cats_dir 폴더로 복사\n",
    "fnames = [\"cat.{}.jpg\".format(i) for i in range(1000,1500)]\n",
    "\n",
    "for fname in fnames:\n",
    "    # 원래 이미지가 있는 폴더와 파일명\n",
    "    src = os.path.join(original_dataset_dir, fname)\n",
    "    # 복사할 위치의 폴더와 파일 명\n",
    "    dst = os.path.join(base_dir5,fname)\n",
    "    \n",
    "    shutil.copyfile(src,dst)"
   ]
  },
  {
   "cell_type": "code",
   "execution_count": 12,
   "id": "disabled-greene",
   "metadata": {},
   "outputs": [],
   "source": [
    "# 처음부터 1000개의 고양이 이미지 파일을 train_cats_dir 폴더로 복사\n",
    "fnames = [\"cat.{}.jpg\".format(i) for i in range(1500,2000)]\n",
    "\n",
    "for fname in fnames:\n",
    "    # 원래 이미지가 있는 폴더와 파일명\n",
    "    src = os.path.join(original_dataset_dir, fname)\n",
    "    # 복사할 위치의 폴더와 파일 명\n",
    "    dst = os.path.join(base_dir9,fname)\n",
    "    \n",
    "    shutil.copyfile(src,dst)"
   ]
  },
  {
   "cell_type": "code",
   "execution_count": 13,
   "id": "diagnostic-lucas",
   "metadata": {},
   "outputs": [],
   "source": [
    "# 처음부터 1000개의 고양이 이미지 파일을 train_cats_dir 폴더로 복사\n",
    "fnames = [\"dog.{}.jpg\".format(i) for i in range(1500,2000)]\n",
    "\n",
    "for fname in fnames:\n",
    "    # 원래 이미지가 있는 폴더와 파일명\n",
    "    src = os.path.join(original_dataset_dir, fname)\n",
    "    # 복사할 위치의 폴더와 파일 명\n",
    "    dst = os.path.join(base_dir8,fname)\n",
    "    \n",
    "    shutil.copyfile(src,dst)"
   ]
  },
  {
   "cell_type": "code",
   "execution_count": 4,
   "id": "guilty-dealer",
   "metadata": {},
   "outputs": [
    {
     "name": "stdout",
     "output_type": "stream",
     "text": [
      "훈련 개 데이터 수:1000\n",
      "훈련 고양이 데이터 수:1000\n",
      "테스트 개 데이터 수:500\n",
      "테스트 고양이 데이터 수:500\n",
      "검증 개 데이터 수:500\n",
      "검증 고양이 데이터 수:500\n"
     ]
    }
   ],
   "source": [
    "# 복사한 파일의 수 확인\n",
    "# listdir() : 해당 폴더에 있는 파일을 가져온다\n",
    "print(\"훈련 개 데이터 수:{}\".format(len(os.listdir(base_dir2))))\n",
    "print(\"훈련 고양이 데이터 수:{}\".format(len(os.listdir(base_dir3))))\n",
    "print(\"테스트 개 데이터 수:{}\".format(len(os.listdir(base_dir6))))\n",
    "print(\"테스트 고양이 데이터 수:{}\".format(len(os.listdir(base_dir5))))\n",
    "print(\"검증 개 데이터 수:{}\".format(len(os.listdir(base_dir8))))\n",
    "print(\"검증 고양이 데이터 수:{}\".format(len(os.listdir(base_dir9))))"
   ]
  },
  {
   "cell_type": "markdown",
   "id": "occupied-formula",
   "metadata": {},
   "source": [
    "##### 이미지 전처리\n",
    "- 이미지를 같은 크기로 만들어 주어야 함\n",
    "- 0~255 범위의 픽셀값들을 0-1 사이 범위의 값으로 변환 -> 분산 감소\n",
    "- 라벨링\n",
    "- ImageDataGenerator() 함수를 사용해서 처리\n",
    "    - 이미지 전처리\n",
    "    - 증식\n",
    "    - 이미지를 부분 개수만큼 반복해서 처리(batch 처리)"
   ]
  },
  {
   "cell_type": "code",
   "execution_count": 5,
   "id": "aggregate-senate",
   "metadata": {},
   "outputs": [
    {
     "name": "stdout",
     "output_type": "stream",
     "text": [
      "Found 2000 images belonging to 2 classes.\n",
      "Found 1000 images belonging to 2 classes.\n"
     ]
    }
   ],
   "source": [
    "from tensorflow.keras.preprocessing.image import ImageDataGenerator\n",
    "\n",
    "# 픽셀값을 0-1 사이로 변환\n",
    "train_gen = ImageDataGenerator(rescale=1./255)\n",
    "test_gen = ImageDataGenerator(rescale=1./255)\n",
    "\n",
    "# flow_from_directory(폴더명, 이미지 크기, 한번에 변환할 이미지 수, 라벨링 모드)\n",
    "train_generator = train_gen.flow_from_directory(base_dir1,\n",
    "                                              target_size=(150,150),\n",
    "                                              batch_size=20,\n",
    "                                               # 다중 분류 : categorical\n",
    "                                               # 라벨 번호는 0부터 시작\n",
    "                                               # 폴더명의 알파벳 순으로 할당\n",
    "                                              class_mode=\"binary\") \n",
    "test_generator = test_gen.flow_from_directory(base_dir4,\n",
    "                                              target_size=(150,150),\n",
    "                                              batch_size=20,\n",
    "                                               # 다중 분류 : categorical\n",
    "                                               # 라벨 번호는 0부터 시작\n",
    "                                               # 폴더명의 알파벳 순으로 할당\n",
    "                                              class_mode=\"binary\") "
   ]
  },
  {
   "cell_type": "code",
   "execution_count": 6,
   "id": "unusual-southwest",
   "metadata": {},
   "outputs": [
    {
     "name": "stdout",
     "output_type": "stream",
     "text": [
      "{'cats': 0, 'dogs': 1}\n",
      "{'cats': 0, 'dogs': 1}\n"
     ]
    }
   ],
   "source": [
    "#라벨링 결과 확인\n",
    "print(train_generator.class_indices)\n",
    "print(test_generator.class_indices)"
   ]
  },
  {
   "cell_type": "markdown",
   "id": "prescribed-lightning",
   "metadata": {},
   "source": [
    "##### 초기화를 위한 seed 설정"
   ]
  },
  {
   "cell_type": "code",
   "execution_count": 7,
   "id": "collected-manor",
   "metadata": {},
   "outputs": [],
   "source": [
    "import numpy as np\n",
    "import tensorflow as tf\n",
    "\n",
    "seed = 0\n",
    "np.random.seed(seed)\n",
    "tf.random.set_seed(seed)"
   ]
  },
  {
   "cell_type": "code",
   "execution_count": 8,
   "id": "possible-adapter",
   "metadata": {},
   "outputs": [
    {
     "name": "stdout",
     "output_type": "stream",
     "text": [
      "Model: \"sequential\"\n",
      "_________________________________________________________________\n",
      "Layer (type)                 Output Shape              Param #   \n",
      "=================================================================\n",
      "conv2d (Conv2D)              (None, 150, 150, 32)      896       \n",
      "_________________________________________________________________\n",
      "max_pooling2d (MaxPooling2D) (None, 75, 75, 32)        0         \n",
      "_________________________________________________________________\n",
      "flatten (Flatten)            (None, 180000)            0         \n",
      "_________________________________________________________________\n",
      "dense (Dense)                (None, 512)               92160512  \n",
      "_________________________________________________________________\n",
      "dense_1 (Dense)              (None, 1)                 513       \n",
      "=================================================================\n",
      "Total params: 92,161,921\n",
      "Trainable params: 92,161,921\n",
      "Non-trainable params: 0\n",
      "_________________________________________________________________\n"
     ]
    }
   ],
   "source": [
    "from tensorflow.keras.models import Sequential\n",
    "from tensorflow.keras.layers import Dense, Dropout\n",
    "from tensorflow.keras.layers import Conv2D, MaxPooling2D, Flatten\n",
    "\n",
    "model = Sequential()\n",
    "\n",
    "# 입력층 (CNN층)\n",
    "# filters : 필터의 수, 출력의 수 (출력되는 이미지의 개수)\n",
    "# kernel_size : 필터의 크기 (3,3) (5,5), (7,7)\n",
    "# input_shape : 입력데이터의 크기 (2차원 이상인 경우에 사용)\n",
    "# padding : 컨벌루션 연산때문에 작아지는 이미지 크기를 유지할 것인 여부\n",
    "# same : 항상 같은 크기로 이미지를 유지해준다.  - padding\n",
    "# valid : 컬벌루션으로 줄어든 상태를 그대로 유지\n",
    "model.add(Conv2D(filters = 32 ,\n",
    "                     kernel_size = (3,3) , \n",
    "                     input_shape = (150,150,3),\n",
    "                     padding = \"same\" , \n",
    "                     activation = \"relu\"))\n",
    "# maxpooling2d -> ex)2,2 라면 가로 2 세로 2 로 필터를 추출\n",
    "model.add(MaxPooling2D(pool_size = (2,2)))\n",
    "\n",
    "# 은닉층에 넣기 전에 이전 데이터들을 1차원으로 변환\n",
    "model.add(Flatten())\n",
    "\n",
    "#은닉층\n",
    "model.add(Dense(units = 512, activation = \"relu\"))\n",
    "\n",
    "# 출력층\n",
    "model.add(Dense(units = 1, activation = \"sigmoid\"))\n",
    "\n",
    "model.summary()"
   ]
  },
  {
   "cell_type": "code",
   "execution_count": 10,
   "id": "effective-panic",
   "metadata": {},
   "outputs": [],
   "source": [
    "# optimizer -> 최적화 도구(씨맥감독)\n",
    "# metrics -> 평가도구\n",
    "# 평가 도구에선 adam이 값이 제일 잘나옴\n",
    "# acc -> 정확도(찍어줌)\n",
    "model.compile(loss=\"binary_crossentropy\",\n",
    "             optimizer=\"adam\",\n",
    "             metrics=[\"acc\"])"
   ]
  },
  {
   "cell_type": "code",
   "execution_count": 19,
   "id": "drawn-monkey",
   "metadata": {
    "scrolled": true
   },
   "outputs": [
    {
     "name": "stdout",
     "output_type": "stream",
     "text": [
      "WARNING:tensorflow:From <ipython-input-19-ff2bca46215c>:8: Model.fit_generator (from tensorflow.python.keras.engine.training) is deprecated and will be removed in a future version.\n",
      "Instructions for updating:\n",
      "Please use Model.fit, which supports generators.\n",
      "WARNING:tensorflow:sample_weight modes were coerced from\n",
      "  ...\n",
      "    to  \n",
      "  ['...']\n",
      "WARNING:tensorflow:sample_weight modes were coerced from\n",
      "  ...\n",
      "    to  \n",
      "  ['...']\n",
      "Train for 100 steps, validate for 50 steps\n",
      "Epoch 1/10\n",
      "100/100 [==============================] - 77s 767ms/step - loss: 2.0822 - acc: 0.5715 - val_loss: 0.6371 - val_acc: 0.6230\n",
      "Epoch 2/10\n",
      "100/100 [==============================] - 71s 713ms/step - loss: 0.4791 - acc: 0.7840 - val_loss: 0.6901 - val_acc: 0.6340\n",
      "Epoch 3/10\n",
      "100/100 [==============================] - 69s 685ms/step - loss: 0.2409 - acc: 0.9200 - val_loss: 0.7403 - val_acc: 0.6570\n",
      "Epoch 4/10\n",
      "100/100 [==============================] - 69s 691ms/step - loss: 0.1206 - acc: 0.9675 - val_loss: 0.7843 - val_acc: 0.6900\n",
      "Epoch 5/10\n",
      "100/100 [==============================] - 69s 689ms/step - loss: 0.0702 - acc: 0.9830 - val_loss: 0.9352 - val_acc: 0.6800\n",
      "Epoch 6/10\n",
      "100/100 [==============================] - 69s 685ms/step - loss: 0.0460 - acc: 0.9935 - val_loss: 0.9589 - val_acc: 0.6830\n",
      "Epoch 7/10\n",
      "100/100 [==============================] - 68s 679ms/step - loss: 0.0268 - acc: 0.9965 - val_loss: 0.9555 - val_acc: 0.6840\n",
      "Epoch 8/10\n",
      "100/100 [==============================] - 67s 673ms/step - loss: 0.0225 - acc: 0.9965 - val_loss: 1.1168 - val_acc: 0.6980\n",
      "Epoch 9/10\n",
      "100/100 [==============================] - 67s 672ms/step - loss: 0.0086 - acc: 0.9995 - val_loss: 1.2134 - val_acc: 0.6900\n",
      "Epoch 10/10\n",
      "100/100 [==============================] - 67s 672ms/step - loss: 0.0029 - acc: 1.0000 - val_loss: 1.2764 - val_acc: 0.6910\n"
     ]
    }
   ],
   "source": [
    "h = model.fit_generator(generator = train_generator,\n",
    "                        # batch_size가 20으로 설정되어 있음\n",
    "                        # 전체 데이터를(2000) 다 읽어오려면 몇 번 돌아가야하는지 설정\n",
    "                       steps_per_epoch = 100,\n",
    "                       epochs = 10,\n",
    "                       validation_data = test_generator,\n",
    "                        # 전체 데이터(1000개)/batch_size\n",
    "                       validation_steps=50)"
   ]
  },
  {
   "cell_type": "markdown",
   "id": "consecutive-registration",
   "metadata": {},
   "source": [
    "#####  증식을 이용해서 적은 데이터 개수를 늘려서 과대적합을 피해보자\n",
    "- data augmentation : 이미지 데이터를 회전, 이동,확대/축소,뒤집기 등을 이용해서 데이터를 늘리는 작업\n",
    "- imageDataGenerator() 함수를 이용해서 수행"
   ]
  },
  {
   "cell_type": "code",
   "execution_count": 11,
   "id": "dense-survival",
   "metadata": {},
   "outputs": [],
   "source": [
    "# 증식 설정\n",
    "train_dataGen = ImageDataGenerator(rescale=1.255,\n",
    "                            rotation_range=20,\n",
    "                            width_shift_range=0.1,\n",
    "                            height_shift_range=0.1,\n",
    "                            shear_range=0.1,\n",
    "                            zoom_range=0.1,\n",
    "                            horizontal_flip=True,\n",
    "                            fill_mode=\"nearest\")\n",
    "\n",
    "#test는 증식하지 않음\n",
    "test_dataGen = ImageDataGenerator(rescale=1.255)\n"
   ]
  },
  {
   "cell_type": "code",
   "execution_count": 12,
   "id": "enabling-speaking",
   "metadata": {},
   "outputs": [
    {
     "name": "stdout",
     "output_type": "stream",
     "text": [
      "Found 2000 images belonging to 2 classes.\n",
      "Found 1000 images belonging to 2 classes.\n"
     ]
    }
   ],
   "source": [
    "train_generator = train_dataGen.flow_from_directory(base_dir1,\n",
    "                                                   target_size=(150,150),\n",
    "                                                   batch_size=20,\n",
    "                                                   class_mode=\"binary\")\n",
    "\n",
    "test_generator = test_dataGen.flow_from_directory(base_dir4,\n",
    "                                                   target_size=(150,150),\n",
    "                                                   batch_size=20,\n",
    "                                                   class_mode=\"binary\")\n"
   ]
  },
  {
   "cell_type": "code",
   "execution_count": 13,
   "id": "dental-innocent",
   "metadata": {},
   "outputs": [
    {
     "name": "stdout",
     "output_type": "stream",
     "text": [
      "Model: \"sequential_1\"\n",
      "_________________________________________________________________\n",
      "Layer (type)                 Output Shape              Param #   \n",
      "=================================================================\n",
      "conv2d_1 (Conv2D)            (None, 150, 150, 32)      896       \n",
      "_________________________________________________________________\n",
      "max_pooling2d_1 (MaxPooling2 (None, 75, 75, 32)        0         \n",
      "_________________________________________________________________\n",
      "flatten_1 (Flatten)          (None, 180000)            0         \n",
      "_________________________________________________________________\n",
      "dense_2 (Dense)              (None, 512)               92160512  \n",
      "_________________________________________________________________\n",
      "dense_3 (Dense)              (None, 1)                 513       \n",
      "=================================================================\n",
      "Total params: 92,161,921\n",
      "Trainable params: 92,161,921\n",
      "Non-trainable params: 0\n",
      "_________________________________________________________________\n"
     ]
    }
   ],
   "source": [
    "from tensorflow.keras.models import Sequential\n",
    "from tensorflow.keras.layers import Dense, Dropout\n",
    "from tensorflow.keras.layers import Conv2D, MaxPooling2D, Flatten\n",
    "\n",
    "model1 = Sequential()\n",
    "\n",
    "# 입력층 (CNN층)\n",
    "# filters : 필터의 수, 출력의 수 (출력되는 이미지의 개수)\n",
    "# kernel_size : 필터의 크기 (3,3) (5,5), (7,7)\n",
    "# input_shape : 입력데이터의 크기 (2차원 이상인 경우에 사용)\n",
    "# padding : 컨벌루션 연산때문에 작아지는 이미지 크기를 유지할 것인 여부\n",
    "# same : 항상 같은 크기로 이미지를 유지해준다.  - padding\n",
    "# valid : 컬벌루션으로 줄어든 상태를 그대로 유지\n",
    "model1.add(Conv2D(filters = 32 ,\n",
    "                     kernel_size = (3,3) , \n",
    "                     input_shape = (150,150,3),\n",
    "                     padding = \"same\" , \n",
    "                     activation = \"relu\"))\n",
    "# maxpooling2d -> ex)2,2 라면 가로 2 세로 2 로 필터를 추출\n",
    "model1.add(MaxPooling2D(pool_size = (2,2)))\n",
    "\n",
    "# 은닉층에 넣기 전에 이전 데이터들을 1차원으로 변환\n",
    "model1.add(Flatten())\n",
    "\n",
    "#은닉층\n",
    "model1.add(Dense(units = 512, activation = \"relu\"))\n",
    "\n",
    "# 출력층\n",
    "model1.add(Dense(units = 1, activation = \"sigmoid\"))\n",
    "\n",
    "model1.summary()"
   ]
  },
  {
   "cell_type": "code",
   "execution_count": 14,
   "id": "guilty-mileage",
   "metadata": {},
   "outputs": [],
   "source": [
    "# optimizer -> 최적화 도구(씨맥감독)\n",
    "# metrics -> 평가도구\n",
    "# 평가 도구에선 adam이 값이 제일 잘나옴\n",
    "# acc -> 정확도(찍어줌)\n",
    "model1.compile(loss=\"binary_crossentropy\",\n",
    "             optimizer=\"adam\",\n",
    "             metrics=[\"acc\"])"
   ]
  },
  {
   "cell_type": "code",
   "execution_count": 32,
   "id": "naval-conservation",
   "metadata": {},
   "outputs": [
    {
     "name": "stdout",
     "output_type": "stream",
     "text": [
      "WARNING:tensorflow:sample_weight modes were coerced from\n",
      "  ...\n",
      "    to  \n",
      "  ['...']\n",
      "WARNING:tensorflow:sample_weight modes were coerced from\n",
      "  ...\n",
      "    to  \n",
      "  ['...']\n",
      "Train for 100 steps, validate for 50 steps\n",
      "Epoch 1/20\n",
      "100/100 [==============================] - 69s 692ms/step - loss: 1.3202 - acc: 0.5785 - val_loss: 2.1501 - val_acc: 0.5560\n",
      "Epoch 2/20\n",
      "100/100 [==============================] - 66s 664ms/step - loss: 1.0863 - acc: 0.5985 - val_loss: 1.9240 - val_acc: 0.5770\n",
      "Epoch 3/20\n",
      "100/100 [==============================] - 69s 690ms/step - loss: 1.0311 - acc: 0.5820 - val_loss: 1.8332 - val_acc: 0.5860\n",
      "Epoch 4/20\n",
      "100/100 [==============================] - 69s 688ms/step - loss: 0.9336 - acc: 0.5920 - val_loss: 1.8819 - val_acc: 0.5620\n",
      "Epoch 5/20\n",
      "100/100 [==============================] - 68s 680ms/step - loss: 0.8781 - acc: 0.5940 - val_loss: 1.7144 - val_acc: 0.5890\n",
      "Epoch 6/20\n",
      "100/100 [==============================] - 68s 684ms/step - loss: 0.8195 - acc: 0.6170 - val_loss: 1.5593 - val_acc: 0.5770\n",
      "Epoch 7/20\n",
      "100/100 [==============================] - 68s 680ms/step - loss: 0.8337 - acc: 0.6055 - val_loss: 1.6936 - val_acc: 0.5720\n",
      "Epoch 8/20\n",
      "100/100 [==============================] - 69s 687ms/step - loss: 0.7529 - acc: 0.6050 - val_loss: 1.4497 - val_acc: 0.5790\n",
      "Epoch 9/20\n",
      "100/100 [==============================] - 71s 708ms/step - loss: 0.7737 - acc: 0.6135 - val_loss: 1.4044 - val_acc: 0.5880\n",
      "Epoch 10/20\n",
      "100/100 [==============================] - 69s 689ms/step - loss: 0.7275 - acc: 0.6155 - val_loss: 1.4088 - val_acc: 0.5980\n",
      "Epoch 11/20\n",
      "100/100 [==============================] - 68s 680ms/step - loss: 0.7432 - acc: 0.6145 - val_loss: 1.3267 - val_acc: 0.5900\n",
      "Epoch 12/20\n",
      "100/100 [==============================] - 68s 682ms/step - loss: 0.7198 - acc: 0.6120 - val_loss: 1.2470 - val_acc: 0.6200\n",
      "Epoch 13/20\n",
      "100/100 [==============================] - 69s 692ms/step - loss: 0.7189 - acc: 0.6315 - val_loss: 1.1937 - val_acc: 0.6000\n",
      "Epoch 14/20\n",
      "100/100 [==============================] - 70s 700ms/step - loss: 0.6969 - acc: 0.6170 - val_loss: 1.2135 - val_acc: 0.5890\n",
      "Epoch 15/20\n",
      "100/100 [==============================] - 68s 678ms/step - loss: 0.6852 - acc: 0.6310 - val_loss: 1.3441 - val_acc: 0.6190\n",
      "Epoch 16/20\n",
      "100/100 [==============================] - 69s 688ms/step - loss: 0.7437 - acc: 0.6170 - val_loss: 1.2461 - val_acc: 0.6210\n",
      "Epoch 17/20\n",
      "100/100 [==============================] - 68s 683ms/step - loss: 0.6758 - acc: 0.6270 - val_loss: 1.2089 - val_acc: 0.5790\n",
      "Epoch 18/20\n",
      "100/100 [==============================] - 68s 682ms/step - loss: 0.7088 - acc: 0.6105 - val_loss: 1.0978 - val_acc: 0.6110\n",
      "Epoch 19/20\n",
      "100/100 [==============================] - 68s 683ms/step - loss: 0.6539 - acc: 0.6270 - val_loss: 1.1170 - val_acc: 0.6060\n",
      "Epoch 20/20\n",
      "100/100 [==============================] - 69s 695ms/step - loss: 0.6697 - acc: 0.6370 - val_loss: 1.0910 - val_acc: 0.6010\n"
     ]
    }
   ],
   "source": [
    "h = model1.fit_generator(generator = train_generator,\n",
    "                        # batch_size가 20으로 설정되어 있음\n",
    "                        # 전체 데이터를(2000) 다 읽어오려면 몇 번 돌아가야하는지 설정\n",
    "                       steps_per_epoch = 100,\n",
    "                       epochs = 20,\n",
    "                       validation_data = test_generator,\n",
    "                        # 전체 데이터(1000개)/batch_size\n",
    "                       validation_steps=50)"
   ]
  },
  {
   "cell_type": "markdown",
   "id": "spoken-quantity",
   "metadata": {},
   "source": [
    "##### 전이학습(transfer learning) : 기존의 잘 만들어진 모델을 가져다 쓰는 것\n",
    "- 특성추출: 기존의 모델을 특성추출기로만 사용\n",
    "- 미세조정 : 기존의 모델의 끝 층(dense층에 가까운 층)까지 파라미터를 업데이트 하도록\n",
    "하는 것 (우리 모델과 기존 모델의 유사성을 높이는 것)"
   ]
  },
  {
   "cell_type": "code",
   "execution_count": 16,
   "id": "absent-austria",
   "metadata": {},
   "outputs": [],
   "source": [
    "# VGG16 모델을 전이학습\n",
    "from tensorflow.keras.applications import VGG16\n",
    "\n",
    "# weights : imagenet 에 있는 가중치를 사용하겠다\n",
    "#include_top : 분류기(Desne층)도 사용할 것인지 여부\n",
    "# input_shape : 우리 모델의 입력 데이터 크기\n",
    "conv_base = VGG16(weights=\"imagenet\",\n",
    "                 include_top=False,\n",
    "                 input_shape=(150,150,3))"
   ]
  },
  {
   "cell_type": "code",
   "execution_count": 17,
   "id": "charged-intranet",
   "metadata": {},
   "outputs": [
    {
     "name": "stdout",
     "output_type": "stream",
     "text": [
      "Model: \"vgg16\"\n",
      "_________________________________________________________________\n",
      "Layer (type)                 Output Shape              Param #   \n",
      "=================================================================\n",
      "input_1 (InputLayer)         [(None, 150, 150, 3)]     0         \n",
      "_________________________________________________________________\n",
      "block1_conv1 (Conv2D)        (None, 150, 150, 64)      1792      \n",
      "_________________________________________________________________\n",
      "block1_conv2 (Conv2D)        (None, 150, 150, 64)      36928     \n",
      "_________________________________________________________________\n",
      "block1_pool (MaxPooling2D)   (None, 75, 75, 64)        0         \n",
      "_________________________________________________________________\n",
      "block2_conv1 (Conv2D)        (None, 75, 75, 128)       73856     \n",
      "_________________________________________________________________\n",
      "block2_conv2 (Conv2D)        (None, 75, 75, 128)       147584    \n",
      "_________________________________________________________________\n",
      "block2_pool (MaxPooling2D)   (None, 37, 37, 128)       0         \n",
      "_________________________________________________________________\n",
      "block3_conv1 (Conv2D)        (None, 37, 37, 256)       295168    \n",
      "_________________________________________________________________\n",
      "block3_conv2 (Conv2D)        (None, 37, 37, 256)       590080    \n",
      "_________________________________________________________________\n",
      "block3_conv3 (Conv2D)        (None, 37, 37, 256)       590080    \n",
      "_________________________________________________________________\n",
      "block3_pool (MaxPooling2D)   (None, 18, 18, 256)       0         \n",
      "_________________________________________________________________\n",
      "block4_conv1 (Conv2D)        (None, 18, 18, 512)       1180160   \n",
      "_________________________________________________________________\n",
      "block4_conv2 (Conv2D)        (None, 18, 18, 512)       2359808   \n",
      "_________________________________________________________________\n",
      "block4_conv3 (Conv2D)        (None, 18, 18, 512)       2359808   \n",
      "_________________________________________________________________\n",
      "block4_pool (MaxPooling2D)   (None, 9, 9, 512)         0         \n",
      "_________________________________________________________________\n",
      "block5_conv1 (Conv2D)        (None, 9, 9, 512)         2359808   \n",
      "_________________________________________________________________\n",
      "block5_conv2 (Conv2D)        (None, 9, 9, 512)         2359808   \n",
      "_________________________________________________________________\n",
      "block5_conv3 (Conv2D)        (None, 9, 9, 512)         2359808   \n",
      "_________________________________________________________________\n",
      "block5_pool (MaxPooling2D)   (None, 4, 4, 512)         0         \n",
      "=================================================================\n",
      "Total params: 14,714,688\n",
      "Trainable params: 14,714,688\n",
      "Non-trainable params: 0\n",
      "_________________________________________________________________\n"
     ]
    }
   ],
   "source": [
    "conv_base.summary()"
   ]
  },
  {
   "cell_type": "markdown",
   "id": "indie-tobago",
   "metadata": {},
   "source": [
    "#####  VGG16와 우리의 분류기 모델을 연동해보자"
   ]
  },
  {
   "cell_type": "code",
   "execution_count": 18,
   "id": "actual-masters",
   "metadata": {},
   "outputs": [],
   "source": [
    "import os\n",
    "import numpy as np\n",
    "from tensorflow.keras.preprocessing.image import ImageDataGenerator\n",
    "\n",
    "base_dir = \"./data/dogs_and_cats_small/\"\n",
    "\n",
    "train_dir=os.path.join(base_dir,\"train\")\n",
    "test_dir=os.path.join(base_dir,\"test\")\n",
    "validation_dir=os.path.join(base_dir,\"validation\")\n",
    "\n",
    "dataGen =ImageDataGenerator(rescale=1./255)\n",
    "batch_size=20\n",
    "\n",
    "# VGG16 특성추출기로 데이터를 보내서 특성을 추출하는 함수\n",
    "# extract_features(데이터 폴더의 경로, 데이터의 개수)\n",
    "def extract_features(directory,sample_count) :\n",
    "    # VGG16에 데이터를 보내서 받은 특성과 라벨을 저장하기 위한 변수 설정\n",
    "    features = np.zeros(shape=(sample_count,4,4,512))\n",
    "    #제너레이터에서 생성된 라벨값을 저장\n",
    "    labels=np.zeros(shape=(sample_count))\n",
    "    \n",
    "    #VGG16으로 넘기기 위한 데이터를 제너레이터로 생성\n",
    "    generator=dataGen.flow_from_directory(directory,\n",
    "                                         target_size=(150,150),\n",
    "                                         batch_size=batch_size,\n",
    "                                         class_mode=\"binary\")\n",
    "    \n",
    "    i=0 #VGG16를 호출한 횟수\n",
    "    #제너레이터로부터 데이터와 라벨을 가져온다\n",
    "    for inputs_batch, labels_batch in generator :\n",
    "        #VGG16으로 데이터를 보내서 특성맵을 받아온다\n",
    "        features_batch=conv_base.predict(inputs_batch)\n",
    "        # features 리스트에 batch_size 개수만큼씩 VGG16에서 넘어온 특성을 추가\n",
    "        features[i*batch_size: (i+1)*batch_size]=features_batch\n",
    "        # labels 리스트에 batch_size 개수만큼씩 generator에서 넘어온 label을 추가\n",
    "        labels[i*batch_size: (i+1)*batch_size]=labels_batch\n",
    "        \n",
    "        i=i+1\n",
    "        \n",
    "        #처리한 데이터 갯수가 전체 데이터 갯수(sample_count)보다 크면\n",
    "        if i*batch_size>=sample_count:\n",
    "            break\n",
    "            \n",
    "    return features,labels"
   ]
  },
  {
   "cell_type": "code",
   "execution_count": 19,
   "id": "likely-emerald",
   "metadata": {},
   "outputs": [
    {
     "name": "stdout",
     "output_type": "stream",
     "text": [
      "Found 2000 images belonging to 2 classes.\n",
      "Found 1000 images belonging to 2 classes.\n",
      "Found 1000 images belonging to 2 classes.\n"
     ]
    }
   ],
   "source": [
    "#훈련,테스트,검증 데이터의 특성을 추출\n",
    "train_features,train_labels=extract_features(train_dir,2000)\n",
    "test_features,test_labels=extract_features(test_dir,1000)\n",
    "validation_features,validation_labels=extract_features(validation_dir,1000)"
   ]
  },
  {
   "cell_type": "markdown",
   "id": "duplicate-reserve",
   "metadata": {},
   "source": [
    "##### 우리가 만든 분류기에 VGG16에서 추출된 특성을 넣어주자"
   ]
  },
  {
   "cell_type": "code",
   "execution_count": 20,
   "id": "twelve-secondary",
   "metadata": {},
   "outputs": [],
   "source": [
    "# 특성맵 데이터를 1차원으로 변환\n",
    "train_features=np.reshape(train_features,(2000,4*4*512))\n",
    "test_features=np.reshape(test_features,(1000,4*4*512))\n",
    "validation_features=np.reshape(validation_features,(1000,4*4*512))"
   ]
  },
  {
   "cell_type": "code",
   "execution_count": 21,
   "id": "mounted-thesis",
   "metadata": {},
   "outputs": [
    {
     "name": "stdout",
     "output_type": "stream",
     "text": [
      "Model: \"sequential_2\"\n",
      "_________________________________________________________________\n",
      "Layer (type)                 Output Shape              Param #   \n",
      "=================================================================\n",
      "dense_4 (Dense)              (None, 512)               4194816   \n",
      "_________________________________________________________________\n",
      "dropout (Dropout)            (None, 512)               0         \n",
      "_________________________________________________________________\n",
      "dense_5 (Dense)              (None, 1)                 513       \n",
      "=================================================================\n",
      "Total params: 4,195,329\n",
      "Trainable params: 4,195,329\n",
      "Non-trainable params: 0\n",
      "_________________________________________________________________\n"
     ]
    }
   ],
   "source": [
    "from tensorflow.keras.models import Sequential\n",
    "from tensorflow.keras.layers import Dense,Dropout\n",
    "\n",
    "model3=Sequential()\n",
    "\n",
    "# 은닉층\n",
    "model3.add(Dense(units=512,\n",
    "                 input_dim=4*4*512,\n",
    "                 activation=\"relu\"))\n",
    "model3.add(Dropout(0.5))\n",
    "\n",
    "# 출력층\n",
    "model3.add(Dense(units=1,activation=\"sigmoid\"))\n",
    "\n",
    "model3.summary()"
   ]
  },
  {
   "cell_type": "code",
   "execution_count": 22,
   "id": "acquired-intersection",
   "metadata": {},
   "outputs": [],
   "source": [
    "model3.compile(loss=\"binary_crossentropy\",\n",
    "                 optimizer=\"adam\",\n",
    "                 metrics=[\"acc\"])"
   ]
  },
  {
   "cell_type": "code",
   "execution_count": 28,
   "id": "subject-uncertainty",
   "metadata": {
    "scrolled": true
   },
   "outputs": [
    {
     "name": "stdout",
     "output_type": "stream",
     "text": [
      "Train on 2000 samples, validate on 1000 samples\n",
      "Epoch 1/30\n",
      "2000/2000 [==============================] - 1s 419us/sample - loss: 0.5107 - acc: 0.8030 - val_loss: 0.2696 - val_acc: 0.8840\n",
      "Epoch 2/30\n",
      "2000/2000 [==============================] - 0s 211us/sample - loss: 0.2514 - acc: 0.8945 - val_loss: 0.2486 - val_acc: 0.8970\n",
      "Epoch 3/30\n",
      "2000/2000 [==============================] - 0s 202us/sample - loss: 0.1863 - acc: 0.9230 - val_loss: 0.2565 - val_acc: 0.8940\n",
      "Epoch 4/30\n",
      "2000/2000 [==============================] - 0s 202us/sample - loss: 0.1524 - acc: 0.9430 - val_loss: 0.2609 - val_acc: 0.8960\n",
      "Epoch 5/30\n",
      "2000/2000 [==============================] - 0s 202us/sample - loss: 0.1198 - acc: 0.9570 - val_loss: 0.2612 - val_acc: 0.9000\n",
      "Epoch 6/30\n",
      "2000/2000 [==============================] - 0s 180us/sample - loss: 0.1015 - acc: 0.9625 - val_loss: 0.2643 - val_acc: 0.8960\n",
      "Epoch 7/30\n",
      "2000/2000 [==============================] - 0s 188us/sample - loss: 0.0969 - acc: 0.9635 - val_loss: 0.2637 - val_acc: 0.9050\n",
      "Epoch 8/30\n",
      "2000/2000 [==============================] - 0s 204us/sample - loss: 0.0683 - acc: 0.9735 - val_loss: 0.3053 - val_acc: 0.9020\n",
      "Epoch 9/30\n",
      "2000/2000 [==============================] - 0s 214us/sample - loss: 0.0572 - acc: 0.9755 - val_loss: 0.3561 - val_acc: 0.9000\n",
      "Epoch 10/30\n",
      "2000/2000 [==============================] - 0s 195us/sample - loss: 0.0557 - acc: 0.9800 - val_loss: 0.3180 - val_acc: 0.9010\n",
      "Epoch 11/30\n",
      "2000/2000 [==============================] - 0s 210us/sample - loss: 0.0380 - acc: 0.9860 - val_loss: 0.3557 - val_acc: 0.8960\n",
      "Epoch 12/30\n",
      "2000/2000 [==============================] - 0s 206us/sample - loss: 0.0280 - acc: 0.9920 - val_loss: 0.4020 - val_acc: 0.8960\n",
      "Epoch 13/30\n",
      "2000/2000 [==============================] - 0s 198us/sample - loss: 0.0304 - acc: 0.9905 - val_loss: 0.4529 - val_acc: 0.8730\n",
      "Epoch 14/30\n",
      "2000/2000 [==============================] - 0s 187us/sample - loss: 0.0342 - acc: 0.9875 - val_loss: 0.3992 - val_acc: 0.9000\n",
      "Epoch 15/30\n",
      "2000/2000 [==============================] - 0s 207us/sample - loss: 0.0425 - acc: 0.9860 - val_loss: 0.4727 - val_acc: 0.8760\n",
      "Epoch 16/30\n",
      "2000/2000 [==============================] - 0s 183us/sample - loss: 0.0384 - acc: 0.9850 - val_loss: 0.4109 - val_acc: 0.8900\n",
      "Epoch 17/30\n",
      "2000/2000 [==============================] - 0s 201us/sample - loss: 0.0338 - acc: 0.9875 - val_loss: 0.5057 - val_acc: 0.8720\n",
      "Epoch 18/30\n",
      "2000/2000 [==============================] - 0s 215us/sample - loss: 0.0222 - acc: 0.9910 - val_loss: 0.4598 - val_acc: 0.8780\n",
      "Epoch 19/30\n",
      "2000/2000 [==============================] - 0s 215us/sample - loss: 0.0262 - acc: 0.9915 - val_loss: 0.4241 - val_acc: 0.8980\n",
      "Epoch 20/30\n",
      "2000/2000 [==============================] - 0s 224us/sample - loss: 0.0246 - acc: 0.9905 - val_loss: 0.4818 - val_acc: 0.9020\n",
      "Epoch 21/30\n",
      "2000/2000 [==============================] - 0s 206us/sample - loss: 0.0291 - acc: 0.9895 - val_loss: 0.4275 - val_acc: 0.8930\n",
      "Epoch 22/30\n",
      "2000/2000 [==============================] - 0s 202us/sample - loss: 0.0274 - acc: 0.9885 - val_loss: 0.4613 - val_acc: 0.8940\n",
      "Epoch 23/30\n",
      "2000/2000 [==============================] - 0s 201us/sample - loss: 0.0175 - acc: 0.9940 - val_loss: 0.4553 - val_acc: 0.8920\n",
      "Epoch 24/30\n",
      "2000/2000 [==============================] - 0s 206us/sample - loss: 0.0094 - acc: 0.9975 - val_loss: 0.5644 - val_acc: 0.8960\n",
      "Epoch 25/30\n",
      "2000/2000 [==============================] - 0s 206us/sample - loss: 0.0129 - acc: 0.9965 - val_loss: 0.4815 - val_acc: 0.8950\n",
      "Epoch 26/30\n",
      "2000/2000 [==============================] - 0s 189us/sample - loss: 0.0374 - acc: 0.9855 - val_loss: 0.4696 - val_acc: 0.9020\n",
      "Epoch 27/30\n",
      "2000/2000 [==============================] - 0s 187us/sample - loss: 0.0322 - acc: 0.9880 - val_loss: 0.4306 - val_acc: 0.8890\n",
      "Epoch 28/30\n",
      "2000/2000 [==============================] - 0s 201us/sample - loss: 0.0157 - acc: 0.9965 - val_loss: 0.4525 - val_acc: 0.8940\n",
      "Epoch 29/30\n",
      "2000/2000 [==============================] - 0s 173us/sample - loss: 0.0145 - acc: 0.9960 - val_loss: 0.5793 - val_acc: 0.8840\n",
      "Epoch 30/30\n",
      "2000/2000 [==============================] - 0s 203us/sample - loss: 0.0143 - acc: 0.9950 - val_loss: 0.5872 - val_acc: 0.8880\n"
     ]
    }
   ],
   "source": [
    "h3=model3.fit(train_features,train_labels,\n",
    "                      batch_size=20,\n",
    "                     epochs=30,\n",
    "                     validation_data=(test_features,test_labels))"
   ]
  },
  {
   "cell_type": "code",
   "execution_count": 29,
   "id": "dependent-surveillance",
   "metadata": {},
   "outputs": [
    {
     "data": {
      "text/plain": [
       "<matplotlib.legend.Legend at 0x2582607d080>"
      ]
     },
     "execution_count": 29,
     "metadata": {},
     "output_type": "execute_result"
    },
    {
     "data": {
      "image/png": "[encoded data removed]",
      "text/plain": [
       "<Figure size 432x288 with 1 Axes>"
      ]
     },
     "metadata": {
      "needs_background": "light"
     },
     "output_type": "display_data"
    }
   ],
   "source": [
    "acc=h3.history[\"acc\"]\n",
    "val_acc=h3.history[\"val_acc\"]\n",
    "\n",
    "epochs=np.arange(len(acc))\n",
    "\n",
    "plt.plot(epochs,acc,c=\"red\",label=\"Train\")\n",
    "plt.plot(epochs,val_acc,c=\"pink\",label=\"Test\")\n",
    "plt.legend()"
   ]
  },
  {
   "cell_type": "code",
   "execution_count": 30,
   "id": "golden-shape",
   "metadata": {},
   "outputs": [
    {
     "name": "stdout",
     "output_type": "stream",
     "text": [
      "Model: \"sequential_3\"\n",
      "_________________________________________________________________\n",
      "Layer (type)                 Output Shape              Param #   \n",
      "=================================================================\n",
      "vgg16 (Model)                (None, 4, 4, 512)         14714688  \n",
      "_________________________________________________________________\n",
      "flatten_2 (Flatten)          (None, 8192)              0         \n",
      "_________________________________________________________________\n",
      "dense_6 (Dense)              (None, 512)               4194816   \n",
      "_________________________________________________________________\n",
      "dense_7 (Dense)              (None, 1)                 513       \n",
      "=================================================================\n",
      "Total params: 18,910,017\n",
      "Trainable params: 18,910,017\n",
      "Non-trainable params: 0\n",
      "_________________________________________________________________\n"
     ]
    }
   ],
   "source": [
    "from tensorflow.keras.models import Sequential\n",
    "from tensorflow.keras.layers import Dense, Dropout, Flatten\n",
    "\n",
    "model4 = Sequential()\n",
    "\n",
    "# 우리가 만든 모델에 VGG16을 끼워넣기\n",
    "\n",
    "model4.add(conv_base)\n",
    "\n",
    "model4.add(Flatten())\n",
    "\n",
    "model4.add(Dense(512,activation=\"relu\"))\n",
    "model4.add(Dense(1,activation=\"sigmoid\"))\n",
    "\n",
    "model4.summary()"
   ]
  },
  {
   "cell_type": "markdown",
   "id": "ordinary-purple",
   "metadata": {},
   "source": [
    "#####  동결  \n",
    "기존의 모델을 우리 모델에 삽입을 하면 오차 역전파 시 기존 모델의 파라미터 값도 갱신이\n",
    "되어 많은 데이터로 학습된 기존 모델의 장점이 사라져 버림 -> 기존 모델의 파라미터가 갱신이 되지 않도록\n",
    "막는 것"
   ]
  },
  {
   "cell_type": "code",
   "execution_count": 31,
   "id": "ethical-practice",
   "metadata": {},
   "outputs": [
    {
     "name": "stdout",
     "output_type": "stream",
     "text": [
      "30\n"
     ]
    }
   ],
   "source": [
    "# 동결 되기 전 훈련되는 vgg16 가중치 수\n",
    "print(len(model4.trainable_weights))"
   ]
  },
  {
   "cell_type": "code",
   "execution_count": 32,
   "id": "adjacent-dinner",
   "metadata": {},
   "outputs": [],
   "source": [
    "#VGG16의 전체 층에 대해 동결\n",
    "conv_base.trainable = False"
   ]
  },
  {
   "cell_type": "code",
   "execution_count": 33,
   "id": "automotive-cause",
   "metadata": {},
   "outputs": [
    {
     "name": "stdout",
     "output_type": "stream",
     "text": [
      "4\n"
     ]
    }
   ],
   "source": [
    "# 동결 후의 훈련되는 VGG16의 가중치 수\n",
    "print(len(model4.trainable_weights))"
   ]
  },
  {
   "cell_type": "code",
   "execution_count": 34,
   "id": "organizational-greeting",
   "metadata": {},
   "outputs": [
    {
     "name": "stdout",
     "output_type": "stream",
     "text": [
      "Found 2000 images belonging to 2 classes.\n",
      "Found 1000 images belonging to 2 classes.\n"
     ]
    }
   ],
   "source": [
    "from tensorflow.keras.preprocessing.image import ImageDataGenerator\n",
    "\n",
    "# 증식 설정\n",
    "train_dataGen = ImageDataGenerator(rescale=1./255,\n",
    "                            rotation_range=20,\n",
    "                            width_shift_range=0.1,\n",
    "                            height_shift_range=0.1,\n",
    "                            shear_range=0.1,\n",
    "                            zoom_range=0.1,\n",
    "                            horizontal_flip=True,\n",
    "                            fill_mode=\"nearest\")\n",
    "\n",
    "test_dataGen = ImageDataGenerator(rescale=1./255)\n",
    "\n",
    "train_generator = train_dataGen.flow_from_directory(train_dir,\n",
    "                                                   target_size=(150,150),\n",
    "                                                   batch_size=20,\n",
    "                                                   class_mode=\"binary\")\n",
    "test_generator = test_dataGen.flow_from_directory(test_dir,\n",
    "                                                   target_size=(150,150),\n",
    "                                                   batch_size=20,\n",
    "                                                   class_mode=\"binary\")"
   ]
  },
  {
   "cell_type": "code",
   "execution_count": 35,
   "id": "ancient-camping",
   "metadata": {},
   "outputs": [],
   "source": [
    "model4.compile(loss=\"binary_crossentropy\",\n",
    "               optimizer=\"adam\",\n",
    "               metrics=[\"acc\"])"
   ]
  },
  {
   "cell_type": "code",
   "execution_count": 36,
   "id": "comic-techno",
   "metadata": {
    "scrolled": true
   },
   "outputs": [
    {
     "name": "stdout",
     "output_type": "stream",
     "text": [
      "WARNING:tensorflow:From <ipython-input-36-c597a5ecc7bf>:5: Model.fit_generator (from tensorflow.python.keras.engine.training) is deprecated and will be removed in a future version.\n",
      "Instructions for updating:\n",
      "Please use Model.fit, which supports generators.\n",
      "WARNING:tensorflow:sample_weight modes were coerced from\n",
      "  ...\n",
      "    to  \n",
      "  ['...']\n",
      "WARNING:tensorflow:sample_weight modes were coerced from\n",
      "  ...\n",
      "    to  \n",
      "  ['...']\n",
      "Train for 100 steps, validate for 50 steps\n",
      "Epoch 1/50\n",
      "100/100 [==============================] - 14s 141ms/step - loss: 0.5210 - acc: 0.8005 - val_loss: 0.2530 - val_acc: 0.8920\n",
      "Epoch 2/50\n",
      "100/100 [==============================] - 13s 133ms/step - loss: 0.3128 - acc: 0.8605 - val_loss: 0.3664 - val_acc: 0.8440\n",
      "Epoch 3/50\n",
      "100/100 [==============================] - 14s 137ms/step - loss: 0.2588 - acc: 0.8900 - val_loss: 0.2629 - val_acc: 0.8950\n",
      "Epoch 4/50\n",
      "100/100 [==============================] - 13s 133ms/step - loss: 0.2581 - acc: 0.8940 - val_loss: 0.4219 - val_acc: 0.8340\n",
      "Epoch 5/50\n",
      "100/100 [==============================] - 13s 134ms/step - loss: 0.2448 - acc: 0.8965 - val_loss: 0.2490 - val_acc: 0.9020\n",
      "Epoch 6/50\n",
      "100/100 [==============================] - 14s 137ms/step - loss: 0.2186 - acc: 0.9095 - val_loss: 0.2419 - val_acc: 0.9050\n",
      "Epoch 7/50\n",
      "100/100 [==============================] - 14s 135ms/step - loss: 0.2043 - acc: 0.9120 - val_loss: 0.2415 - val_acc: 0.9070\n",
      "Epoch 8/50\n",
      "100/100 [==============================] - 14s 137ms/step - loss: 0.1952 - acc: 0.9135 - val_loss: 0.2495 - val_acc: 0.9030\n",
      "Epoch 9/50\n",
      "100/100 [==============================] - 14s 137ms/step - loss: 0.2101 - acc: 0.9080 - val_loss: 0.2552 - val_acc: 0.9010\n",
      "Epoch 10/50\n",
      "100/100 [==============================] - 14s 144ms/step - loss: 0.1776 - acc: 0.9255 - val_loss: 0.2641 - val_acc: 0.9030\n",
      "Epoch 11/50\n",
      "100/100 [==============================] - 14s 140ms/step - loss: 0.2067 - acc: 0.9170 - val_loss: 0.2495 - val_acc: 0.9040\n",
      "Epoch 12/50\n",
      "100/100 [==============================] - 14s 136ms/step - loss: 0.1496 - acc: 0.9385 - val_loss: 0.2814 - val_acc: 0.9020\n",
      "Epoch 13/50\n",
      "100/100 [==============================] - 13s 134ms/step - loss: 0.1550 - acc: 0.9360 - val_loss: 0.3028 - val_acc: 0.8880\n",
      "Epoch 14/50\n",
      "100/100 [==============================] - 13s 134ms/step - loss: 0.1737 - acc: 0.9265 - val_loss: 0.2608 - val_acc: 0.9020\n",
      "Epoch 15/50\n",
      "100/100 [==============================] - 14s 140ms/step - loss: 0.1492 - acc: 0.9430 - val_loss: 0.2889 - val_acc: 0.8950\n",
      "Epoch 16/50\n",
      "100/100 [==============================] - 14s 136ms/step - loss: 0.1474 - acc: 0.9385 - val_loss: 0.2665 - val_acc: 0.8980\n",
      "Epoch 17/50\n",
      "100/100 [==============================] - 13s 133ms/step - loss: 0.1419 - acc: 0.9405 - val_loss: 0.2743 - val_acc: 0.9050\n",
      "Epoch 18/50\n",
      "100/100 [==============================] - 13s 133ms/step - loss: 0.1337 - acc: 0.9420 - val_loss: 0.2935 - val_acc: 0.8980\n",
      "Epoch 19/50\n",
      "100/100 [==============================] - 14s 137ms/step - loss: 0.1434 - acc: 0.9440 - val_loss: 0.2835 - val_acc: 0.9030\n",
      "Epoch 20/50\n",
      "100/100 [==============================] - 13s 135ms/step - loss: 0.1529 - acc: 0.9405 - val_loss: 0.3500 - val_acc: 0.8830\n",
      "Epoch 21/50\n",
      "100/100 [==============================] - 13s 133ms/step - loss: 0.1306 - acc: 0.9500 - val_loss: 0.3156 - val_acc: 0.8840\n",
      "Epoch 22/50\n",
      "100/100 [==============================] - 14s 137ms/step - loss: 0.1247 - acc: 0.9480 - val_loss: 0.2866 - val_acc: 0.8970\n",
      "Epoch 23/50\n",
      "100/100 [==============================] - 13s 132ms/step - loss: 0.1154 - acc: 0.9510 - val_loss: 0.2736 - val_acc: 0.8930\n",
      "Epoch 24/50\n",
      "100/100 [==============================] - 13s 131ms/step - loss: 0.1194 - acc: 0.9555 - val_loss: 0.3539 - val_acc: 0.8960\n",
      "Epoch 25/50\n",
      "100/100 [==============================] - 13s 132ms/step - loss: 0.1434 - acc: 0.9365 - val_loss: 0.2632 - val_acc: 0.9020\n",
      "Epoch 26/50\n",
      "100/100 [==============================] - 13s 132ms/step - loss: 0.1199 - acc: 0.9555 - val_loss: 0.2820 - val_acc: 0.8960\n",
      "Epoch 27/50\n",
      "100/100 [==============================] - 13s 132ms/step - loss: 0.1186 - acc: 0.9550 - val_loss: 0.2789 - val_acc: 0.9040\n",
      "Epoch 28/50\n",
      "100/100 [==============================] - 13s 133ms/step - loss: 0.1085 - acc: 0.9580 - val_loss: 0.2797 - val_acc: 0.9050\n",
      "Epoch 29/50\n",
      "100/100 [==============================] - 13s 133ms/step - loss: 0.0904 - acc: 0.9660 - val_loss: 0.3249 - val_acc: 0.8970\n",
      "Epoch 30/50\n",
      "100/100 [==============================] - 13s 132ms/step - loss: 0.0946 - acc: 0.9620 - val_loss: 0.3375 - val_acc: 0.9020\n",
      "Epoch 31/50\n",
      "100/100 [==============================] - 13s 132ms/step - loss: 0.0949 - acc: 0.9630 - val_loss: 0.3465 - val_acc: 0.9030\n",
      "Epoch 32/50\n",
      "100/100 [==============================] - 13s 135ms/step - loss: 0.0992 - acc: 0.9635 - val_loss: 0.3344 - val_acc: 0.9010\n",
      "Epoch 33/50\n",
      "100/100 [==============================] - 13s 134ms/step - loss: 0.0964 - acc: 0.9630 - val_loss: 0.3491 - val_acc: 0.8980\n",
      "Epoch 34/50\n",
      "100/100 [==============================] - 13s 133ms/step - loss: 0.0796 - acc: 0.9685 - val_loss: 0.3193 - val_acc: 0.8940\n",
      "Epoch 35/50\n",
      "100/100 [==============================] - 13s 131ms/step - loss: 0.1069 - acc: 0.9595 - val_loss: 0.3629 - val_acc: 0.8780\n",
      "Epoch 36/50\n",
      "100/100 [==============================] - 13s 131ms/step - loss: 0.0858 - acc: 0.9670 - val_loss: 0.3276 - val_acc: 0.9000\n",
      "Epoch 37/50\n",
      "100/100 [==============================] - 13s 131ms/step - loss: 0.0885 - acc: 0.9645 - val_loss: 0.3374 - val_acc: 0.9000\n",
      "Epoch 38/50\n",
      "100/100 [==============================] - 13s 131ms/step - loss: 0.0641 - acc: 0.9755 - val_loss: 0.3600 - val_acc: 0.9050\n",
      "Epoch 39/50\n",
      "100/100 [==============================] - 13s 133ms/step - loss: 0.0897 - acc: 0.9655 - val_loss: 0.3297 - val_acc: 0.8980\n",
      "Epoch 40/50\n",
      "100/100 [==============================] - 13s 132ms/step - loss: 0.0757 - acc: 0.9700 - val_loss: 0.3308 - val_acc: 0.9080\n",
      "Epoch 41/50\n",
      "100/100 [==============================] - 14s 137ms/step - loss: 0.0833 - acc: 0.9675 - val_loss: 0.3411 - val_acc: 0.9000\n",
      "Epoch 42/50\n",
      "100/100 [==============================] - 13s 134ms/step - loss: 0.0582 - acc: 0.9740 - val_loss: 0.3448 - val_acc: 0.8970\n",
      "Epoch 43/50\n",
      "100/100 [==============================] - 13s 135ms/step - loss: 0.0567 - acc: 0.9790 - val_loss: 0.3664 - val_acc: 0.8930\n",
      "Epoch 44/50\n",
      "100/100 [==============================] - 14s 135ms/step - loss: 0.0711 - acc: 0.9735 - val_loss: 0.4417 - val_acc: 0.8850\n",
      "Epoch 45/50\n",
      "100/100 [==============================] - 13s 134ms/step - loss: 0.0588 - acc: 0.9770 - val_loss: 0.4102 - val_acc: 0.8900\n",
      "Epoch 46/50\n",
      "100/100 [==============================] - 13s 132ms/step - loss: 0.0602 - acc: 0.9770 - val_loss: 0.3412 - val_acc: 0.9030\n",
      "Epoch 47/50\n",
      "100/100 [==============================] - 13s 133ms/step - loss: 0.0588 - acc: 0.9780 - val_loss: 0.3431 - val_acc: 0.8960\n",
      "Epoch 48/50\n",
      "100/100 [==============================] - 13s 134ms/step - loss: 0.0655 - acc: 0.9785 - val_loss: 0.3461 - val_acc: 0.8970\n",
      "Epoch 49/50\n",
      "100/100 [==============================] - 14s 135ms/step - loss: 0.0632 - acc: 0.9755 - val_loss: 0.3918 - val_acc: 0.8920\n",
      "Epoch 50/50\n",
      "100/100 [==============================] - 14s 140ms/step - loss: 0.0593 - acc: 0.9775 - val_loss: 0.3629 - val_acc: 0.9030\n"
     ]
    }
   ],
   "source": [
    "h4 = model4.fit_generator(generator=train_generator,\n",
    "                         steps_per_epoch=100,\n",
    "                         epochs=50,\n",
    "                         validation_data=test_generator,\n",
    "                         validation_steps=50)"
   ]
  },
  {
   "cell_type": "markdown",
   "id": "spoken-external",
   "metadata": {},
   "source": [
    "#####  미세조정\n",
    "- 기존의 모델과 우리 모델이 잘 연결되도록 기존 모델의 아래층까지 학습이 가능하도록 만들어 주는것"
   ]
  },
  {
   "cell_type": "code",
   "execution_count": 38,
   "id": "compliant-compound",
   "metadata": {
    "scrolled": true
   },
   "outputs": [],
   "source": [
    "# block5_conv1 층 까지만 학습이 되도록 미세 조정\n",
    "# 학습이 되는 층 -> block5_conv1,block5_conv2,block5_conv2,block5_conv3,block5_conv4,block5_conv5,block5_pool\n",
    "\n",
    "#VGG16 모델 전체가 학습이 되도록 설정\n",
    "conv_base.trainable = True\n",
    "\n",
    "set_trainable = False\n",
    "\n",
    "# VGG16의 신경망층 한층을 가져온다\n",
    "for layer in conv_base.layers :\n",
    "    #가져온 층의 이름이  block5_conv1 이라면\n",
    "    if layer.name == \"block5_conv1\":\n",
    "        set_trainable = True\n",
    "    if set_trainable == True:\n",
    "        layer.trainable = True\n",
    "    else :\n",
    "        layer.trainable = False"
   ]
  },
  {
   "cell_type": "code",
   "execution_count": 39,
   "id": "distinguished-steel",
   "metadata": {},
   "outputs": [],
   "source": [
    "model4.compile(loss=\"binary_crossentropy\",\n",
    "               optimizer=\"adam\",\n",
    "               metrics=[\"acc\"])"
   ]
  },
  {
   "cell_type": "code",
   "execution_count": 40,
   "id": "british-marketing",
   "metadata": {},
   "outputs": [
    {
     "name": "stdout",
     "output_type": "stream",
     "text": [
      "WARNING:tensorflow:sample_weight modes were coerced from\n",
      "  ...\n",
      "    to  \n",
      "  ['...']\n",
      "WARNING:tensorflow:sample_weight modes were coerced from\n",
      "  ...\n",
      "    to  \n",
      "  ['...']\n",
      "Train for 100 steps, validate for 50 steps\n",
      "Epoch 1/50\n",
      "100/100 [==============================] - 15s 147ms/step - loss: 3.0223 - acc: 0.5100 - val_loss: 0.6932 - val_acc: 0.5000\n",
      "Epoch 2/50\n",
      "100/100 [==============================] - 13s 134ms/step - loss: 0.6933 - acc: 0.5000 - val_loss: 0.6932 - val_acc: 0.5000\n",
      "Epoch 3/50\n",
      "100/100 [==============================] - 13s 134ms/step - loss: 0.6932 - acc: 0.5000 - val_loss: 0.6932 - val_acc: 0.5000\n",
      "Epoch 4/50\n",
      "100/100 [==============================] - 13s 134ms/step - loss: 0.6932 - acc: 0.5000 - val_loss: 0.6932 - val_acc: 0.5000\n",
      "Epoch 5/50\n",
      "100/100 [==============================] - 13s 132ms/step - loss: 0.6932 - acc: 0.5000 - val_loss: 0.6931 - val_acc: 0.5000\n",
      "Epoch 6/50\n",
      "100/100 [==============================] - 13s 133ms/step - loss: 0.6933 - acc: 0.4790 - val_loss: 0.6931 - val_acc: 0.5000\n",
      "Epoch 7/50\n",
      "100/100 [==============================] - 13s 133ms/step - loss: 0.6932 - acc: 0.4900 - val_loss: 0.6931 - val_acc: 0.5000\n",
      "Epoch 8/50\n",
      "100/100 [==============================] - 13s 134ms/step - loss: 0.6932 - acc: 0.4980 - val_loss: 0.6931 - val_acc: 0.5000\n",
      "Epoch 9/50\n",
      "100/100 [==============================] - 13s 133ms/step - loss: 0.6932 - acc: 0.4910 - val_loss: 0.6931 - val_acc: 0.5000\n",
      "Epoch 10/50\n",
      "100/100 [==============================] - 13s 134ms/step - loss: 0.6932 - acc: 0.5000 - val_loss: 0.6932 - val_acc: 0.5000\n",
      "Epoch 11/50\n",
      "100/100 [==============================] - 13s 133ms/step - loss: 0.6932 - acc: 0.4920 - val_loss: 0.6931 - val_acc: 0.5000\n",
      "Epoch 12/50\n",
      "100/100 [==============================] - 13s 133ms/step - loss: 0.6932 - acc: 0.4820 - val_loss: 0.6931 - val_acc: 0.5000\n",
      "Epoch 13/50\n",
      "100/100 [==============================] - 13s 132ms/step - loss: 0.6932 - acc: 0.4860 - val_loss: 0.6931 - val_acc: 0.5000\n",
      "Epoch 14/50\n",
      "100/100 [==============================] - 14s 135ms/step - loss: 0.6932 - acc: 0.4760 - val_loss: 0.6931 - val_acc: 0.5000\n",
      "Epoch 15/50\n",
      "100/100 [==============================] - 13s 133ms/step - loss: 0.6932 - acc: 0.4930 - val_loss: 0.6931 - val_acc: 0.5000\n",
      "Epoch 16/50\n",
      "100/100 [==============================] - 13s 133ms/step - loss: 0.6932 - acc: 0.4820 - val_loss: 0.6931 - val_acc: 0.5000\n",
      "Epoch 17/50\n",
      "100/100 [==============================] - 14s 142ms/step - loss: 0.6932 - acc: 0.4980 - val_loss: 0.6931 - val_acc: 0.5000\n",
      "Epoch 18/50\n",
      "100/100 [==============================] - 14s 141ms/step - loss: 0.6932 - acc: 0.4880 - val_loss: 0.6931 - val_acc: 0.5000\n",
      "Epoch 19/50\n",
      "100/100 [==============================] - 13s 133ms/step - loss: 0.6932 - acc: 0.4900 - val_loss: 0.6931 - val_acc: 0.5000\n",
      "Epoch 20/50\n",
      "100/100 [==============================] - 14s 145ms/step - loss: 0.6932 - acc: 0.4980 - val_loss: 0.6931 - val_acc: 0.5000\n",
      "Epoch 21/50\n",
      "100/100 [==============================] - 14s 142ms/step - loss: 0.6932 - acc: 0.4810 - val_loss: 0.6931 - val_acc: 0.5000\n",
      "Epoch 22/50\n",
      "100/100 [==============================] - 14s 137ms/step - loss: 0.6932 - acc: 0.5000 - val_loss: 0.6931 - val_acc: 0.5000\n",
      "Epoch 23/50\n",
      "100/100 [==============================] - 14s 136ms/step - loss: 0.6932 - acc: 0.4830 - val_loss: 0.6931 - val_acc: 0.5000\n",
      "Epoch 24/50\n",
      "100/100 [==============================] - 14s 137ms/step - loss: 0.6932 - acc: 0.4800 - val_loss: 0.6931 - val_acc: 0.5000\n",
      "Epoch 25/50\n",
      "100/100 [==============================] - 14s 140ms/step - loss: 0.6932 - acc: 0.4830 - val_loss: 0.6931 - val_acc: 0.5000\n",
      "Epoch 26/50\n",
      "100/100 [==============================] - 14s 141ms/step - loss: 0.6932 - acc: 0.4840 - val_loss: 0.6931 - val_acc: 0.5000\n",
      "Epoch 27/50\n",
      "100/100 [==============================] - 14s 140ms/step - loss: 0.6932 - acc: 0.4890 - val_loss: 0.6931 - val_acc: 0.5000\n",
      "Epoch 28/50\n",
      "100/100 [==============================] - 14s 137ms/step - loss: 0.6932 - acc: 0.4950 - val_loss: 0.6931 - val_acc: 0.5000\n",
      "Epoch 29/50\n",
      "100/100 [==============================] - 14s 137ms/step - loss: 0.6932 - acc: 0.5000 - val_loss: 0.6931 - val_acc: 0.5000\n",
      "Epoch 30/50\n",
      "100/100 [==============================] - 14s 138ms/step - loss: 0.6932 - acc: 0.4910 - val_loss: 0.6931 - val_acc: 0.5000\n",
      "Epoch 31/50\n",
      "100/100 [==============================] - 14s 137ms/step - loss: 0.6932 - acc: 0.4820 - val_loss: 0.6931 - val_acc: 0.5000\n",
      "Epoch 32/50\n",
      "100/100 [==============================] - 14s 138ms/step - loss: 0.6932 - acc: 0.4940 - val_loss: 0.6931 - val_acc: 0.5000\n",
      "Epoch 33/50\n",
      "100/100 [==============================] - 14s 137ms/step - loss: 0.6932 - acc: 0.4910 - val_loss: 0.6931 - val_acc: 0.5000\n",
      "Epoch 34/50\n",
      "100/100 [==============================] - 14s 137ms/step - loss: 0.6932 - acc: 0.4910 - val_loss: 0.6931 - val_acc: 0.5000\n",
      "Epoch 35/50\n",
      "100/100 [==============================] - 14s 137ms/step - loss: 0.6932 - acc: 0.4910 - val_loss: 0.6931 - val_acc: 0.5000\n",
      "Epoch 36/50\n",
      "100/100 [==============================] - 14s 138ms/step - loss: 0.6932 - acc: 0.4930 - val_loss: 0.6931 - val_acc: 0.5000\n",
      "Epoch 37/50\n",
      "100/100 [==============================] - 14s 138ms/step - loss: 0.6932 - acc: 0.4950 - val_loss: 0.6931 - val_acc: 0.5000\n",
      "Epoch 38/50\n",
      "100/100 [==============================] - 14s 137ms/step - loss: 0.6932 - acc: 0.4910 - val_loss: 0.6931 - val_acc: 0.5000\n",
      "Epoch 39/50\n",
      "100/100 [==============================] - 14s 138ms/step - loss: 0.6932 - acc: 0.4850 - val_loss: 0.6931 - val_acc: 0.5000\n",
      "Epoch 40/50\n",
      "100/100 [==============================] - 14s 137ms/step - loss: 0.6932 - acc: 0.4910 - val_loss: 0.6931 - val_acc: 0.5000\n",
      "Epoch 41/50\n",
      "100/100 [==============================] - 14s 137ms/step - loss: 0.6932 - acc: 0.5000 - val_loss: 0.6931 - val_acc: 0.5000\n",
      "Epoch 42/50\n",
      "100/100 [==============================] - 14s 137ms/step - loss: 0.6932 - acc: 0.4860 - val_loss: 0.6931 - val_acc: 0.5000\n",
      "Epoch 43/50\n",
      "100/100 [==============================] - 14s 137ms/step - loss: 0.6932 - acc: 0.4930 - val_loss: 0.6931 - val_acc: 0.5000\n",
      "Epoch 44/50\n",
      "100/100 [==============================] - 14s 137ms/step - loss: 0.6932 - acc: 0.4850 - val_loss: 0.6931 - val_acc: 0.5000\n",
      "Epoch 45/50\n",
      "100/100 [==============================] - 14s 138ms/step - loss: 0.6932 - acc: 0.4820 - val_loss: 0.6931 - val_acc: 0.5000\n",
      "Epoch 46/50\n",
      "100/100 [==============================] - 14s 138ms/step - loss: 0.6932 - acc: 0.4900 - val_loss: 0.6931 - val_acc: 0.5000\n",
      "Epoch 47/50\n",
      "100/100 [==============================] - 14s 137ms/step - loss: 0.6932 - acc: 0.4920 - val_loss: 0.6931 - val_acc: 0.5000\n",
      "Epoch 48/50\n",
      "100/100 [==============================] - 14s 137ms/step - loss: 0.6932 - acc: 0.4940 - val_loss: 0.6931 - val_acc: 0.5000\n",
      "Epoch 49/50\n",
      "100/100 [==============================] - 14s 137ms/step - loss: 0.6932 - acc: 0.4960 - val_loss: 0.6931 - val_acc: 0.5000\n",
      "Epoch 50/50\n",
      "100/100 [==============================] - 14s 137ms/step - loss: 0.6932 - acc: 0.4980 - val_loss: 0.6931 - val_acc: 0.5000\n"
     ]
    }
   ],
   "source": [
    "h4 = model4.fit_generator(generator=train_generator,\n",
    "                         steps_per_epoch=100,\n",
    "                         epochs=50,\n",
    "                         validation_data=test_generator,\n",
    "                         validation_steps=50)"
   ]
  },
  {
   "cell_type": "code",
   "execution_count": 41,
   "id": "positive-audience",
   "metadata": {},
   "outputs": [
    {
     "data": {
      "text/plain": [
       "<matplotlib.legend.Legend at 0x2582c59eba8>"
      ]
     },
     "execution_count": 41,
     "metadata": {},
     "output_type": "execute_result"
    },
    {
     "data": {
      "image/png": "[encoded data removed]",
      "text/plain": [
       "<Figure size 432x288 with 1 Axes>"
      ]
     },
     "metadata": {
      "needs_background": "light"
     },
     "output_type": "display_data"
    }
   ],
   "source": [
    "acc=h4.history[\"acc\"]\n",
    "val_acc=h4.history[\"val_acc\"]\n",
    "\n",
    "epochs=np.arange(len(acc))\n",
    "\n",
    "plt.plot(epochs,acc,c=\"red\",label=\"Train\")\n",
    "plt.plot(epochs,val_acc,c=\"pink\",label=\"Test\")\n",
    "plt.legend()"
   ]
  },
  {
   "cell_type": "code",
   "execution_count": null,
   "id": "differential-california",
   "metadata": {},
   "outputs": [],
   "source": []
  }
 ],
 "metadata": {
  "kernelspec": {
   "display_name": "Python 3",
   "language": "python",
   "name": "python3"
  },
  "language_info": {
   "codemirror_mode": {
    "name": "ipython",
    "version": 3
   },
   "file_extension": ".py",
   "mimetype": "text/x-python",
   "name": "python",
   "nbconvert_exporter": "python",
   "pygments_lexer": "ipython3",
   "version": "3.6.12"
  }
 },
 "nbformat": 4,
 "nbformat_minor": 5
}
