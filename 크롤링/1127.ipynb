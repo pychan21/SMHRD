{
 "cells": [
  {
   "cell_type": "markdown",
   "metadata": {},
   "source": [
    "### 영화 관람객 리뷰 수집"
   ]
  },
  {
   "cell_type": "code",
   "execution_count": 7,
   "metadata": {},
   "outputs": [],
   "source": [
    "import numpy as np\n",
    "import pandas as pd\n",
    "from bs4 import BeautifulSoup as bs\n",
    "import requests as req"
   ]
  },
  {
   "cell_type": "code",
   "execution_count": 8,
   "metadata": {},
   "outputs": [],
   "source": [
    "mv = req.get('https://movie.naver.com/movie/bi/mi/pointWriteFormList.nhn?code=189141&type=after&isActualPointWriteExecute=false&isMileageSubscriptionAlready=false&isMileageSubscriptionReject=false')"
   ]
  },
  {
   "cell_type": "code",
   "execution_count": 9,
   "metadata": {},
   "outputs": [],
   "source": [
    "mv_text = mv.text"
   ]
  },
  {
   "cell_type": "code",
   "execution_count": 10,
   "metadata": {},
   "outputs": [],
   "source": [
    "mv_info = bs(mv_text,'lxml')"
   ]
  },
  {
   "cell_type": "code",
   "execution_count": 15,
   "metadata": {},
   "outputs": [],
   "source": [
    "mv_set = mv_info.select('div.score_reple > p')"
   ]
  },
  {
   "cell_type": "code",
   "execution_count": 16,
   "metadata": {
    "collapsed": true
   },
   "outputs": [
    {
     "data": {
      "text/plain": [
       "[<p>\n",
       " <span class=\"ico_viewer\">관람객</span>\n",
       " <!-- 스포일러 컨텐츠로 처리되는지 여부 -->\n",
       " <span id=\"_filtered_ment_0\">\n",
       " \t\t\t\t\t\t\t\t\t\t\t\t\t\t\n",
       " \t\t\t\t\t\t\t\t\t\t\t\t\t\t\t\n",
       " \t\t\t\t\t\t\t\t\t\t\t\t\t\t\t\n",
       " \t\t\t\t\t\t\t\t\t\t\t\t\t\t\t\t어제의 너 보다 오늘 더 성장했는데~? ㅋㅋ 명대사! 너무재밌었어요!! +_+ 기대이상이었습니다~ \n",
       " \t\t\t\t\t\t\t\t\t\t\t\t\t\t\t\n",
       " \t\t\t\t\t\t\t\t\t\t\t\t\t\t\n",
       " \t\t\t\t\t\t\t\t\t\t\t\t\t\t\n",
       " \t\t\t\t\t\t\t\t\t\t\t\t\t</span>\n",
       " </p>,\n",
       " <p>\n",
       " <span class=\"ico_viewer\">관람객</span>\n",
       " <!-- 스포일러 컨텐츠로 처리되는지 여부 -->\n",
       " <span id=\"_filtered_ment_1\">\n",
       " \t\t\t\t\t\t\t\t\t\t\t\t\t\t\n",
       " \t\t\t\t\t\t\t\t\t\t\t\t\t\t\t\n",
       " \t\t\t\t\t\t\t\t\t\t\t\t\t\t\t\n",
       " \t\t\t\t\t\t\t\t\t\t\t\t\t\t\t\t2020년 본 영화중에 가장 기분 좋게 본 영화같아요 \n",
       " \t\t\t\t\t\t\t\t\t\t\t\t\t\t\t\n",
       " \t\t\t\t\t\t\t\t\t\t\t\t\t\t\n",
       " \t\t\t\t\t\t\t\t\t\t\t\t\t\t\n",
       " \t\t\t\t\t\t\t\t\t\t\t\t\t</span>\n",
       " </p>,\n",
       " <p>\n",
       " <span class=\"ico_viewer\">관람객</span>\n",
       " <!-- 스포일러 컨텐츠로 처리되는지 여부 -->\n",
       " <span id=\"_filtered_ment_2\">\n",
       " \t\t\t\t\t\t\t\t\t\t\t\t\t\t\n",
       " \t\t\t\t\t\t\t\t\t\t\t\t\t\t\t\n",
       " \t\t\t\t\t\t\t\t\t\t\t\t\t\t\t\n",
       " \t\t\t\t\t\t\t\t\t\t\t\t\t\t\t\t근래 본 영화 중 최고! 박혜수 진짜 너무 귀여워ㅜㅜ \n",
       " \t\t\t\t\t\t\t\t\t\t\t\t\t\t\t\n",
       " \t\t\t\t\t\t\t\t\t\t\t\t\t\t\n",
       " \t\t\t\t\t\t\t\t\t\t\t\t\t\t\n",
       " \t\t\t\t\t\t\t\t\t\t\t\t\t</span>\n",
       " </p>,\n",
       " <p>\n",
       " <span class=\"ico_viewer\">관람객</span>\n",
       " <!-- 스포일러 컨텐츠로 처리되는지 여부 -->\n",
       " <span id=\"_filtered_ment_3\">\n",
       " \t\t\t\t\t\t\t\t\t\t\t\t\t\t\n",
       " \t\t\t\t\t\t\t\t\t\t\t\t\t\t\t\n",
       " \t\t\t\t\t\t\t\t\t\t\t\t\t\t\t\n",
       " \t\t\t\t\t\t\t\t\t\t\t\t\t\t\t\t억지신파 내용 아니라서 더 맘에 들어요 배우들 케미 좋네요ㅎㅎ \n",
       " \t\t\t\t\t\t\t\t\t\t\t\t\t\t\t\n",
       " \t\t\t\t\t\t\t\t\t\t\t\t\t\t\n",
       " \t\t\t\t\t\t\t\t\t\t\t\t\t\t\n",
       " \t\t\t\t\t\t\t\t\t\t\t\t\t</span>\n",
       " </p>,\n",
       " <p>\n",
       " <span class=\"ico_viewer\">관람객</span>\n",
       " <!-- 스포일러 컨텐츠로 처리되는지 여부 -->\n",
       " <span id=\"_filtered_ment_4\">\n",
       " \t\t\t\t\t\t\t\t\t\t\t\t\t\t\n",
       " \t\t\t\t\t\t\t\t\t\t\t\t\t\t\t\n",
       " \t\t\t\t\t\t\t\t\t\t\t\t\t\t\t\n",
       " \t\t\t\t\t\t\t\t\t\t\t\t\t\t\t\t정의로운 세상을 꿈꾸게 되는 영화였습니다 좋아요ㅎㅎ \n",
       " \t\t\t\t\t\t\t\t\t\t\t\t\t\t\t\n",
       " \t\t\t\t\t\t\t\t\t\t\t\t\t\t\n",
       " \t\t\t\t\t\t\t\t\t\t\t\t\t\t\n",
       " \t\t\t\t\t\t\t\t\t\t\t\t\t</span>\n",
       " </p>,\n",
       " <p>\n",
       " <span class=\"ico_viewer\">관람객</span>\n",
       " <!-- 스포일러 컨텐츠로 처리되는지 여부 -->\n",
       " <span id=\"_filtered_ment_5\">\n",
       " \t\t\t\t\t\t\t\t\t\t\t\t\t\t\n",
       " \t\t\t\t\t\t\t\t\t\t\t\t\t\t\t\n",
       " \t\t\t\t\t\t\t\t\t\t\t\t\t\t\t\n",
       " \t\t\t\t\t\t\t\t\t\t\t\t\t\t\t\t사회적으로 시사하는바가 좋습니다. 꼭 한번 보시기를강추합니다. \n",
       " \t\t\t\t\t\t\t\t\t\t\t\t\t\t\t\n",
       " \t\t\t\t\t\t\t\t\t\t\t\t\t\t\n",
       " \t\t\t\t\t\t\t\t\t\t\t\t\t\t\n",
       " \t\t\t\t\t\t\t\t\t\t\t\t\t</span>\n",
       " </p>,\n",
       " <p>\n",
       " <span class=\"ico_viewer\">관람객</span>\n",
       " <!-- 스포일러 컨텐츠로 처리되는지 여부 -->\n",
       " <span id=\"_filtered_ment_6\">\n",
       " \t\t\t\t\t\t\t\t\t\t\t\t\t\t\n",
       " \t\t\t\t\t\t\t\t\t\t\t\t\t\t\t\n",
       " \t\t\t\t\t\t\t\t\t\t\t\t\t\t\t\n",
       " \t\t\t\t\t\t\t\t\t\t\t\t\t\t\t\t다들 어찌 95년생 직장인 연기가 이리 찰떡이란말이오 ㅋㅋ \n",
       " \t\t\t\t\t\t\t\t\t\t\t\t\t\t\t\n",
       " \t\t\t\t\t\t\t\t\t\t\t\t\t\t\n",
       " \t\t\t\t\t\t\t\t\t\t\t\t\t\t\n",
       " \t\t\t\t\t\t\t\t\t\t\t\t\t</span>\n",
       " </p>,\n",
       " <p>\n",
       " <span class=\"ico_viewer\">관람객</span>\n",
       " <!-- 스포일러 컨텐츠로 처리되는지 여부 -->\n",
       " <span id=\"_filtered_ment_7\">\n",
       " \t\t\t\t\t\t\t\t\t\t\t\t\t\t\n",
       " \t\t\t\t\t\t\t\t\t\t\t\t\t\t\t\n",
       " \t\t\t\t\t\t\t\t\t\t\t\t\t\t\t\n",
       " \t\t\t\t\t\t\t\t\t\t\t\t\t\t\t\t추억의 노래와 갬성! 이 정도로 재밌을줄 몰랐는데 너무 재밌게 봤다! \n",
       " \t\t\t\t\t\t\t\t\t\t\t\t\t\t\t\n",
       " \t\t\t\t\t\t\t\t\t\t\t\t\t\t\n",
       " \t\t\t\t\t\t\t\t\t\t\t\t\t\t\n",
       " \t\t\t\t\t\t\t\t\t\t\t\t\t</span>\n",
       " </p>,\n",
       " <p>\n",
       " <span class=\"ico_viewer\">관람객</span>\n",
       " <!-- 스포일러 컨텐츠로 처리되는지 여부 -->\n",
       " <span id=\"_filtered_ment_8\">\n",
       " \t\t\t\t\t\t\t\t\t\t\t\t\t\t\n",
       " \t\t\t\t\t\t\t\t\t\t\t\t\t\t\t\n",
       " \t\t\t\t\t\t\t\t\t\t\t\t\t\t\t\n",
       " \t\t\t\t\t\t\t\t\t\t\t\t\t\t\t\t고아성은 여기서도 폐수를 ㅎㅎ \n",
       " \t\t\t\t\t\t\t\t\t\t\t\t\t\t\t\n",
       " \t\t\t\t\t\t\t\t\t\t\t\t\t\t\n",
       " \t\t\t\t\t\t\t\t\t\t\t\t\t\t\n",
       " \t\t\t\t\t\t\t\t\t\t\t\t\t</span>\n",
       " </p>,\n",
       " <p>\n",
       " <span class=\"ico_viewer\">관람객</span>\n",
       " <!-- 스포일러 컨텐츠로 처리되는지 여부 -->\n",
       " <span id=\"_filtered_ment_9\">\n",
       " \t\t\t\t\t\t\t\t\t\t\t\t\t\t\n",
       " \t\t\t\t\t\t\t\t\t\t\t\t\t\t\t\n",
       " \t\t\t\t\t\t\t\t\t\t\t\t\t\t\t\n",
       " \t\t\t\t\t\t\t\t\t\t\t\t\t\t\t\t진짜 기대안햇는데 재밌어.. \n",
       " \t\t\t\t\t\t\t\t\t\t\t\t\t\t\t\n",
       " \t\t\t\t\t\t\t\t\t\t\t\t\t\t\n",
       " \t\t\t\t\t\t\t\t\t\t\t\t\t\t\n",
       " \t\t\t\t\t\t\t\t\t\t\t\t\t</span>\n",
       " </p>]"
      ]
     },
     "execution_count": 16,
     "metadata": {},
     "output_type": "execute_result"
    }
   ],
   "source": [
    "mv_set"
   ]
  },
  {
   "cell_type": "code",
   "execution_count": 23,
   "metadata": {},
   "outputs": [
    {
     "name": "stdout",
     "output_type": "stream",
     "text": [
      "어제의 너 보다 오늘 더 성장했는데~? ㅋㅋ 명대사! 너무재밌었어요!! +_+ 기대이상이었습니다~\n",
      "2020년 본 영화중에 가장 기분 좋게 본 영화같아요\n",
      "근래 본 영화 중 최고! 박혜수 진짜 너무 귀여워ㅜㅜ\n",
      "억지신파 내용 아니라서 더 맘에 들어요 배우들 케미 좋네요ㅎㅎ\n",
      "정의로운 세상을 꿈꾸게 되는 영화였습니다 좋아요ㅎㅎ\n",
      "사회적으로 시사하는바가 좋습니다. 꼭 한번 보시기를강추합니다.\n",
      "다들 어찌 95년생 직장인 연기가 이리 찰떡이란말이오 ㅋㅋ\n",
      "추억의 노래와 갬성! 이 정도로 재밌을줄 몰랐는데 너무 재밌게 봤다!\n",
      "고아성은 여기서도 폐수를 ㅎㅎ\n",
      "진짜 기대안햇는데 재밌어..\n"
     ]
    }
   ],
   "source": [
    "for i in mv_set :\n",
    "    print(i.text.strip())"
   ]
  },
  {
   "cell_type": "code",
   "execution_count": 20,
   "metadata": {},
   "outputs": [],
   "source": [
    "# 관람객이라는 아이콘 제거(제거를 위해선 먼저 추출해야함)\n",
    "icon = mv_info.select(\"span.ico_viewer\")"
   ]
  },
  {
   "cell_type": "code",
   "execution_count": 22,
   "metadata": {},
   "outputs": [],
   "source": [
    "# bs에서 지웠기 때문에 나중에 실행해도 영향이 없음\n",
    "for i in icon :\n",
    "    i.extract()"
   ]
  },
  {
   "cell_type": "markdown",
   "metadata": {},
   "source": [
    "#### Selenium 모듈\n",
    "- 웹 페이지를 제어하기 위한 모듈"
   ]
  },
  {
   "cell_type": "code",
   "execution_count": 24,
   "metadata": {},
   "outputs": [
    {
     "name": "stdout",
     "output_type": "stream",
     "text": [
      "Collecting selenium\n",
      "  Using cached selenium-3.141.0-py2.py3-none-any.whl (904 kB)\n",
      "Requirement already satisfied: urllib3 in c:\\users\\smt051\\anaconda3\\lib\\site-packages (from selenium) (1.25.11)\n",
      "Installing collected packages: selenium\n",
      "Successfully installed selenium-3.141.0\n"
     ]
    }
   ],
   "source": [
    "!pip install selenium"
   ]
  },
  {
   "cell_type": "code",
   "execution_count": 28,
   "metadata": {},
   "outputs": [],
   "source": [
    "#webdriver : 웹을 통제하기 위한 라이브러리\n",
    "## Keys : 웹을 통해 값을 입력하기 위한 라이브러리 >> 키보드\n",
    "from selenium import webdriver as wb\n",
    "from selenium.webdriver.common.keys import Keys"
   ]
  },
  {
   "cell_type": "code",
   "execution_count": 35,
   "metadata": {},
   "outputs": [],
   "source": [
    "driver = wb.Chrome('C:/Users/SMT051/Desktop/chromedriver.exe')"
   ]
  },
  {
   "cell_type": "code",
   "execution_count": 37,
   "metadata": {},
   "outputs": [],
   "source": [
    "driver.get(\"https://www.naver.com/\")"
   ]
  },
  {
   "cell_type": "code",
   "execution_count": 40,
   "metadata": {},
   "outputs": [],
   "source": [
    "search = driver.find_element_by_id('query')"
   ]
  },
  {
   "cell_type": "code",
   "execution_count": 41,
   "metadata": {},
   "outputs": [],
   "source": [
    "search.send_keys('코로나')"
   ]
  },
  {
   "cell_type": "code",
   "execution_count": 44,
   "metadata": {},
   "outputs": [],
   "source": [
    "btn_search = driver.find_element_by_id('search_btn')"
   ]
  },
  {
   "cell_type": "code",
   "execution_count": 45,
   "metadata": {},
   "outputs": [],
   "source": [
    "btn_search.click()"
   ]
  },
  {
   "cell_type": "code",
   "execution_count": null,
   "metadata": {},
   "outputs": [],
   "source": [
    "search.send_keys(Keys.ENTER)"
   ]
  }
 ],
 "metadata": {
  "kernelspec": {
   "display_name": "Python 3",
   "language": "python",
   "name": "python3"
  },
  "language_info": {
   "codemirror_mode": {
    "name": "ipython",
    "version": 3
   },
   "file_extension": ".py",
   "mimetype": "text/x-python",
   "name": "python",
   "nbconvert_exporter": "python",
   "pygments_lexer": "ipython3",
   "version": "3.8.5"
  }
 },
 "nbformat": 4,
 "nbformat_minor": 4
}
