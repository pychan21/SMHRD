{
 "cells": [
  {
   "cell_type": "code",
   "execution_count": 1,
   "metadata": {},
   "outputs": [],
   "source": [
    "from selenium import webdriver as wb\n",
    "from bs4 import BeautifulSoup as bs\n",
    "import time"
   ]
  },
  {
   "cell_type": "code",
   "execution_count": 2,
   "metadata": {},
   "outputs": [],
   "source": [
    "url = 'https://www.youtube.com/results?search_query=%EC%9D%B4%EC%84%BC%EC%8A%A4'\n",
    "\n",
    "driver = wb.Chrome()\n",
    "\n",
    "driver.get(url)"
   ]
  },
  {
   "cell_type": "code",
   "execution_count": 3,
   "metadata": {},
   "outputs": [],
   "source": [
    "soup=bs(driver.page_source,'lxml')"
   ]
  },
  {
   "cell_type": "code",
   "execution_count": 4,
   "metadata": {},
   "outputs": [],
   "source": [
    "youtube = soup.select(\"a#video-title\") "
   ]
  },
  {
   "cell_type": "code",
   "execution_count": 5,
   "metadata": {},
   "outputs": [],
   "source": [
    "youtube_list=[]\n",
    "\n",
    "for i in range(len(youtube)):\n",
    "    youtube_list.append(youtube[i].text.strip())"
   ]
  },
  {
   "cell_type": "code",
   "execution_count": 6,
   "metadata": {},
   "outputs": [],
   "source": [
    "from selenium.webdriver.common.keys import Keys"
   ]
  },
  {
   "cell_type": "code",
   "execution_count": 7,
   "metadata": {},
   "outputs": [],
   "source": [
    "body = driver.find_element_by_tag_name('body')\n",
    "body.send_keys(Keys.PAGE_DOWN)"
   ]
  },
  {
   "cell_type": "code",
   "execution_count": 8,
   "metadata": {},
   "outputs": [],
   "source": [
    "for i in range(10):\n",
    "    body.send_keys(Keys.PAGE_DOWN)\n",
    "    time.sleep(1)"
   ]
  },
  {
   "cell_type": "code",
   "execution_count": 9,
   "metadata": {},
   "outputs": [],
   "source": [
    "soup=bs(driver.page_source,'lxml')"
   ]
  },
  {
   "cell_type": "code",
   "execution_count": 10,
   "metadata": {},
   "outputs": [],
   "source": [
    "youtube = soup.select(\"a#video-title\") "
   ]
  },
  {
   "cell_type": "code",
   "execution_count": 11,
   "metadata": {},
   "outputs": [],
   "source": [
    "youtube_list=[]\n",
    "\n",
    "for i in range(len(youtube)):\n",
    "    youtube_list.append(youtube[i].text.strip())"
   ]
  },
  {
   "cell_type": "code",
   "execution_count": 12,
   "metadata": {},
   "outputs": [
    {
     "name": "stdout",
     "output_type": "stream",
     "text": [
      "[4K] 이센스의 신보 이방인 킬링벌스를 라이브로! | COLD WORLD, BUCKY, RADAR, DON, BUTTONS, PAYDAY\n",
      "힘들때 들으면 눈물나는 이센스 (E SENS) 인생 명곡 모음\n",
      "[FULL ALBUM] E SENS(이센스) - 이방인(The Stranger) 전체듣기\n",
      "독(Poison) Primary (Feat E Sens) Korean and English Lyrics\n",
      "비행 - E SENS (가사포함)\n",
      "[FULL ALBUM] E SENS - The Anecdote\n",
      "이센스, 개코, 쌈디, 스윙스 등 힙합 디스 랩 총 모음 (Korea War Battle Hip Hop Rap disrespect Collection Music)\n",
      "[FULL ALBUM] E SENS(이센스) - Marigold Tapes 전곡듣기\n",
      "이센스가 평가하는 국힙 ( 오케이션 자이언티 도끼 더콰이엇  디보 쌈디 키스에이프 제이팍 빈지노 로꼬 그래이 비프리 )\n",
      "🔍EP.1-1 넉살과 던밀스의 국힙원탑 논란 종결! | 궁금한 나라의 넉밀스 (넉살, 던밀스, 이센스)\n",
      "이센스가 악플 단 그XX에게 전한다! l E SENS _ 그XX아들같이(Son of a) l 본인등판 l Look Me Up\n",
      "다이나믹듀오 이센스\n",
      "SMTM9 [7회] '감동을 주는 책임감을 위해' Upgrade 2020 (Feat. 팔로알토) (Prod. 코드 쿤스트) - 스윙스 @본선 EP.7 201127\n",
      "[영아재 하이라이트] 힙합의 디스, 진짜 사이가 안 좋은 래퍼는?\n",
      "\"센스야, 너 대머리야 빡빡이야?\" 8살과 친구하기(feat. 이센스) | ODG\n",
      "놀라운토요일에 나온(?) 이센스ㅋㅋㅋㅋㅋ 넉살 얼음\n",
      "이센스 VS 쌈디 레전드ㄷㄷㄷ 이센스가 부르는 드렁큰타이거 Good Life (A-Yo, Good Life, 진짜, 땡땡땡)\n",
      "E SENS(이센스) - WTFRU 역대급 라이브\n",
      "이센스, 쌈디한테 \"병X짓 그만해\" 인스타 라이브\n",
      "[ENG] SMTM9 [1회] 이센스의 샤라웃! 조커 래퍼, 바이스벌사 @1차 예선 EP.1 201016\n",
      "[곡FARM!] Ep.11 이센스도 힐링이 필요해👶 8살 아이들과 래퍼 이센스가 만난다면? (feat.ODG) (ENG SUB)\n",
      "[HD] E SENS(이센스) 2018 MAMA - 알아야겠어\n",
      "센스로운 감빵생활 #내일의숙취\n",
      "Back In Time - ESENS\n",
      "[곡FARM!] Ep.13 나 왜 울어..? 이센스X자이언티 콜라보 작업 S.T.O.R.Y | 신곡 7월 7일 정오 발매🔥 (ENG SUB)\n",
      "[곡FARM!] Ep.12 '왜 제 인스타 언팔하셨어요??' 이센스 신곡 피쳐링은 누구? (feat. JaeDal, DBO, BIG Naugthy)(ENG SUB)\n",
      "AOMG랑 일리네어 들어갈 뻔했던 이센스 썰ㅋㅋㅋㅋ w 박재범 @Broken GPS\n",
      "[내일의숙취2] #BONUS 난입한 이방인, 이센스 @ BALI BISTRO\n",
      "이센스- 2차 디스곡 True Story (가사보기)\n",
      "이센스 자체심의 레이더 라이브ㅋㅋㅋㅋㅋ 와중에 너무 잘해...\n",
      "이센스 고딩 때 랩 with 도끼 더콰이엇 팔로알토(P&Q 지켜볼게 라이브) / 가사O\n",
      "이센스 - CLOCK / RAPHOUSE ON AIR (EP.1)\n",
      "shige (쉬게)\n",
      "E SENS(이센스) - 쉬게 / Lyrics(가사)\n",
      "[ E SENS 레전드 무대 ] E SENS(이센스) RADAR /JUMF2019\n",
      "E SENS : The Anecdote 5th Anniversary  [EN/CN/JP/ID/THAI Sub]\n",
      "스윙스, 이센스(E SENS)와 했던 프리스타일 랩배틀의 뒷 이야기에 대해 말하다 (feat. 블랙넛) [내일의 숙취]\n",
      "*꿀잼보장* 이센스(E SENS) 감옥서 노래하다 현진영 깜빵 동기 만나다?ㅣ정영진 최욱의 매불쇼(W. 현진영데이)\n",
      "E SENS - ALL GOOD THING / [DF LIVE]\n",
      "191229/ E SENS(이센스) - 비행 (콘서트 마지막 앵콜곡)\n",
      "이센스 vs 오케이본 디스전의 모든 것 (개뼈다귀, 9단지 독서실, 라임 킹) [추억의 디스전]\n"
     ]
    }
   ],
   "source": [
    "for i in range(len(youtube_list)):\n",
    "    print(youtube_list[i])"
   ]
  }
 ],
 "metadata": {
  "kernelspec": {
   "display_name": "Python 3",
   "language": "python",
   "name": "python3"
  },
  "language_info": {
   "codemirror_mode": {
    "name": "ipython",
    "version": 3
   },
   "file_extension": ".py",
   "mimetype": "text/x-python",
   "name": "python",
   "nbconvert_exporter": "python",
   "pygments_lexer": "ipython3",
   "version": "3.8.5"
  }
 },
 "nbformat": 4,
 "nbformat_minor": 4
}
