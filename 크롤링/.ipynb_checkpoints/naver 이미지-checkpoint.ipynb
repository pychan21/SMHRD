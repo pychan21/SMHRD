{
 "cells": [
  {
   "cell_type": "markdown",
   "metadata": {},
   "source": [
    "####  이미지 크롤링"
   ]
  },
  {
   "cell_type": "code",
   "execution_count": 1,
   "metadata": {},
   "outputs": [],
   "source": [
    "from selenium import webdriver as wb\n",
    "from bs4 import BeautifulSoup as bs\n",
    "import time\n",
    "import os # 파일시스템을 위한 라이브러리 ex) 파일, 폴더를 생성하거나 삭제\n",
    "from urllib.request import urlretrieve as ure# 이미지의 경로를 파일로 저장"
   ]
  },
  {
   "cell_type": "code",
   "execution_count": 2,
   "metadata": {},
   "outputs": [],
   "source": [
    "# 폴더 생성\n",
    "if not os.path.isdir('C:/Users/SMT051/Desktop/이미지'):\n",
    "    os.mkdir('C:/Users/SMT051/Desktop/이미지')"
   ]
  },
  {
   "cell_type": "code",
   "execution_count": 7,
   "metadata": {},
   "outputs": [
    {
     "name": "stderr",
     "output_type": "stream",
     "text": [
      "<ipython-input-7-385c0f2c0a2c>:6: DeprecationWarning: use options instead of chrome_options\n",
      "  driver = wb.Chrome('C:/Users/SMT051/Desktop/chromedriver.exe',chrome_options = options)\n"
     ]
    }
   ],
   "source": [
    "options = wb.ChromeOptions()\n",
    "options.add_argument('headless')\n",
    "options.add_argument('window-size=1920x1080')\n",
    "options.add_argument(\"disable-gpu\")\n",
    "url = 'https://search.naver.com/search.naver?sm=tab_sug.top&where=image&query=rtx+3080&oquery=%EB%A7%90+%ED%8C%94%EB%A1%9C%EB%AF%B8%EB%85%B8&tqi=U8UWXdp0J1ZssU%2BQWmCsssssspC-259771&acq=rtx+3&acr=1&qdt=0'\n",
    "driver = wb.Chrome('C:/Users/SMT051/Desktop/박예찬/python/크롤링/chromedriver.exe',chrome_options = options)\n",
    "\n",
    "driver.get(url)"
   ]
  },
  {
   "cell_type": "code",
   "execution_count": 27,
   "metadata": {},
   "outputs": [],
   "source": [
    "soup = bs(driver.page_source,'lxml')"
   ]
  },
  {
   "cell_type": "code",
   "execution_count": 14,
   "metadata": {},
   "outputs": [],
   "source": [
    "img = soup.select('img._img')"
   ]
  },
  {
   "cell_type": "code",
   "execution_count": 15,
   "metadata": {},
   "outputs": [
    {
     "data": {
      "text/plain": [
       "'https://search.pstatic.net/common/?src=http%3A%2F%2Fblogfiles.naver.net%2FMjAyMDEwMDlfNzEg%2FMDAxNjAyMjUwOTcwNTY3.tgEQHpb3uDS0bjeExbw87PJe9F-2UgkNjjxm4KoS1G8g.ScdmYv-8Rt5VM1D6ZlxeMkAfwsHJBcfnjxjx9UHg0okg.PNG.modoosshop%2F%25BE%25CB%25B7%25E7%25B9%25CC%25B4%25BDrtx3080.png&type=b400'"
      ]
     },
     "execution_count": 15,
     "metadata": {},
     "output_type": "execute_result"
    }
   ],
   "source": [
    "img[0]['src']"
   ]
  },
  {
   "cell_type": "code",
   "execution_count": 16,
   "metadata": {},
   "outputs": [],
   "source": [
    "img_src = []\n",
    "for i in  img :\n",
    "    img_src.append(i['src'])"
   ]
  },
  {
   "cell_type": "code",
   "execution_count": 17,
   "metadata": {},
   "outputs": [],
   "source": [
    "from tqdm import tqdm_notebook as tq"
   ]
  },
  {
   "cell_type": "code",
   "execution_count": 18,
   "metadata": {},
   "outputs": [
    {
     "name": "stderr",
     "output_type": "stream",
     "text": [
      "<ipython-input-18-3972c298ded0>:1: TqdmDeprecationWarning: This function will be removed in tqdm==5.0.0\n",
      "Please use `tqdm.notebook.tqdm` instead of `tqdm.tqdm_notebook`\n",
      "  for i in tq(range(len(img_src))):\n"
     ]
    },
    {
     "data": {
      "application/vnd.jupyter.widget-view+json": {
       "model_id": "bd6ffb447b734783834a9829ede9b33b",
       "version_major": 2,
       "version_minor": 0
      },
      "text/plain": [
       "HBox(children=(HTML(value=''), FloatProgress(value=0.0, max=50.0), HTML(value='')))"
      ]
     },
     "metadata": {},
     "output_type": "display_data"
    },
    {
     "name": "stdout",
     "output_type": "stream",
     "text": [
      "\n"
     ]
    }
   ],
   "source": [
    "for i in tq(range(len(img_src))):\n",
    "    ure(img_src[i],'C:/Users/SMT051/Desktop/이미지/'+str(i)+'.jpg')\n",
    "    time.sleep(3)"
   ]
  },
  {
   "cell_type": "code",
   "execution_count": 20,
   "metadata": {},
   "outputs": [],
   "source": [
    "# 크롬 창 종료\n",
    "driver.quit()"
   ]
  },
  {
   "cell_type": "code",
   "execution_count": null,
   "metadata": {},
   "outputs": [],
   "source": []
  }
 ],
 "metadata": {
  "kernelspec": {
   "display_name": "Python 3",
   "language": "python",
   "name": "python3"
  },
  "language_info": {
   "codemirror_mode": {
    "name": "ipython",
    "version": 3
   },
   "file_extension": ".py",
   "mimetype": "text/x-python",
   "name": "python",
   "nbconvert_exporter": "python",
   "pygments_lexer": "ipython3",
   "version": "3.8.5"
  }
 },
 "nbformat": 4,
 "nbformat_minor": 4
}
