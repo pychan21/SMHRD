{
 "cells": [
  {
   "cell_type": "code",
   "execution_count": 1,
   "metadata": {},
   "outputs": [],
   "source": [
    "import pandas as pd\n",
    "import numpy as np\n",
    "import matplotlib.pyplot as plt"
   ]
  },
  {
   "cell_type": "code",
   "execution_count": 18,
   "metadata": {},
   "outputs": [],
   "source": [
    "data = {\"시간\":[9,8,4,2],\"성적\":[90,80,40,20]}"
   ]
  },
  {
   "cell_type": "code",
   "execution_count": 19,
   "metadata": {},
   "outputs": [],
   "source": [
    "data = pd.DataFrame(data)"
   ]
  },
  {
   "cell_type": "code",
   "execution_count": 20,
   "metadata": {},
   "outputs": [
    {
     "data": {
      "text/html": [
       "<div>\n",
       "<style scoped>\n",
       "    .dataframe tbody tr th:only-of-type {\n",
       "        vertical-align: middle;\n",
       "    }\n",
       "\n",
       "    .dataframe tbody tr th {\n",
       "        vertical-align: top;\n",
       "    }\n",
       "\n",
       "    .dataframe thead th {\n",
       "        text-align: right;\n",
       "    }\n",
       "</style>\n",
       "<table border=\"1\" class=\"dataframe\">\n",
       "  <thead>\n",
       "    <tr style=\"text-align: right;\">\n",
       "      <th></th>\n",
       "      <th>시간</th>\n",
       "      <th>성적</th>\n",
       "    </tr>\n",
       "  </thead>\n",
       "  <tbody>\n",
       "    <tr>\n",
       "      <th>0</th>\n",
       "      <td>9</td>\n",
       "      <td>90</td>\n",
       "    </tr>\n",
       "    <tr>\n",
       "      <th>1</th>\n",
       "      <td>8</td>\n",
       "      <td>80</td>\n",
       "    </tr>\n",
       "    <tr>\n",
       "      <th>2</th>\n",
       "      <td>4</td>\n",
       "      <td>40</td>\n",
       "    </tr>\n",
       "    <tr>\n",
       "      <th>3</th>\n",
       "      <td>2</td>\n",
       "      <td>20</td>\n",
       "    </tr>\n",
       "  </tbody>\n",
       "</table>\n",
       "</div>"
      ],
      "text/plain": [
       "   시간  성적\n",
       "0   9  90\n",
       "1   8  80\n",
       "2   4  40\n",
       "3   2  20"
      ]
     },
     "execution_count": 20,
     "metadata": {},
     "output_type": "execute_result"
    }
   ],
   "source": [
    "data"
   ]
  },
  {
   "cell_type": "code",
   "execution_count": 21,
   "metadata": {},
   "outputs": [],
   "source": [
    "from sklearn.linear_model import LinearRegression"
   ]
  },
  {
   "cell_type": "code",
   "execution_count": 22,
   "metadata": {},
   "outputs": [
    {
     "data": {
      "text/plain": [
       "LinearRegression()"
      ]
     },
     "execution_count": 22,
     "metadata": {},
     "output_type": "execute_result"
    }
   ],
   "source": [
    "linear_model = LinearRegression()\n",
    "linear_model.fit(data[['시간']],data['성적'])\n",
    "# 문제는 여러가지 값이 들어가기 때문에 2차원으로 넣어 줘야 하지만,\n",
    "# 답은 대부분 하나로 나오기 때문에 1차원으로 넣어준다."
   ]
  },
  {
   "cell_type": "code",
   "execution_count": 23,
   "metadata": {},
   "outputs": [
    {
     "name": "stdout",
     "output_type": "stream",
     "text": [
      "[10.]\n",
      "-7.105427357601002e-15\n"
     ]
    }
   ],
   "source": [
    "#가중치(기울기)\n",
    "print(linear_model.coef_)\n",
    "#절편(0과 만나는 점)\n",
    "print(linear_model.intercept_)"
   ]
  },
  {
   "cell_type": "code",
   "execution_count": 24,
   "metadata": {},
   "outputs": [
    {
     "data": {
      "text/plain": [
       "array([70.])"
      ]
     },
     "execution_count": 24,
     "metadata": {},
     "output_type": "execute_result"
    }
   ],
   "source": [
    "# 예측\n",
    "linear_model.predict([[7]])"
   ]
  },
  {
   "cell_type": "markdown",
   "metadata": {},
   "source": [
    "##### H(x) = W*X+b"
   ]
  },
  {
   "cell_type": "code",
   "execution_count": 25,
   "metadata": {},
   "outputs": [],
   "source": [
    "def h(w,x,b):\n",
    "    return w*x+b"
   ]
  },
  {
   "cell_type": "markdown",
   "metadata": {},
   "source": [
    "##### 비용함수\n",
    "- 평균 제곱 오차(MSE)\n",
    "- 오차들을 제곱해서 평균을 구하는 것"
   ]
  },
  {
   "cell_type": "code",
   "execution_count": 26,
   "metadata": {},
   "outputs": [],
   "source": [
    "def cost(data,target,weight,intercept):#weight 기울기 intercept 절편\n",
    "    y_pre = h(weight,data,intercept)\n",
    "    return((y_pre - target)**2).mean()"
   ]
  },
  {
   "cell_type": "code",
   "execution_count": 27,
   "metadata": {},
   "outputs": [
    {
     "data": {
      "text/plain": [
       "0.0"
      ]
     },
     "execution_count": 27,
     "metadata": {},
     "output_type": "execute_result"
    }
   ],
   "source": [
    "# 기울기 10, 절편0\n",
    "cost(data['시간'],data['성적'],10,0)"
   ]
  },
  {
   "cell_type": "code",
   "execution_count": 29,
   "metadata": {
    "scrolled": true
   },
   "outputs": [
    {
     "data": {
      "text/plain": [
       "305.0"
      ]
     },
     "execution_count": 29,
     "metadata": {},
     "output_type": "execute_result"
    }
   ],
   "source": [
    "# 기울기 12, 절편 5\n",
    "cost(data['시간'],data['성적'],12,5)"
   ]
  },
  {
   "cell_type": "markdown",
   "metadata": {},
   "source": [
    "#####  수학공식을 위한 해석적 모델\n",
    "- linear Regressor"
   ]
  },
  {
   "cell_type": "markdown",
   "metadata": {},
   "source": [
    "##### 경사하강법"
   ]
  },
  {
   "cell_type": "code",
   "execution_count": 42,
   "metadata": {},
   "outputs": [
    {
     "data": {
      "text/plain": [
       "range(-10, 31)"
      ]
     },
     "execution_count": 42,
     "metadata": {},
     "output_type": "execute_result"
    }
   ],
   "source": [
    "weight_arr = range(-10, 31)\n",
    "weight_arr"
   ]
  },
  {
   "cell_type": "code",
   "execution_count": 43,
   "metadata": {},
   "outputs": [
    {
     "data": {
      "text/plain": [
       "[16500.0,\n",
       " 14891.25,\n",
       " 13365.0,\n",
       " 11921.25,\n",
       " 10560.0,\n",
       " 9281.25,\n",
       " 8085.0,\n",
       " 6971.25,\n",
       " 5940.0,\n",
       " 4991.25,\n",
       " 4125.0,\n",
       " 3341.25,\n",
       " 2640.0,\n",
       " 2021.25,\n",
       " 1485.0,\n",
       " 1031.25,\n",
       " 660.0,\n",
       " 371.25,\n",
       " 165.0,\n",
       " 41.25,\n",
       " 0.0,\n",
       " 41.25,\n",
       " 165.0,\n",
       " 371.25,\n",
       " 660.0,\n",
       " 1031.25,\n",
       " 1485.0,\n",
       " 2021.25,\n",
       " 2640.0,\n",
       " 3341.25,\n",
       " 4125.0,\n",
       " 4991.25,\n",
       " 5940.0,\n",
       " 6971.25,\n",
       " 8085.0,\n",
       " 9281.25,\n",
       " 10560.0,\n",
       " 11921.25,\n",
       " 13365.0,\n",
       " 14891.25,\n",
       " 16500.0]"
      ]
     },
     "execution_count": 43,
     "metadata": {},
     "output_type": "execute_result"
    }
   ],
   "source": [
    "cost_list = []\n",
    "for w in weight_arr:\n",
    "    c = cost(data['시간'],data['성적'],w,0)\n",
    "    cost_list.append(c)\n",
    "cost_list"
   ]
  },
  {
   "cell_type": "code",
   "execution_count": 41,
   "metadata": {},
   "outputs": [
    {
     "data": {
      "text/plain": [
       "[<matplotlib.lines.Line2D at 0x19949ca7610>]"
      ]
     },
     "execution_count": 41,
     "metadata": {},
     "output_type": "execute_result"
    },
    {
     "data": {
      "image/png": "[encoded data removed]",
      "text/plain": [
       "<Figure size 432x288 with 1 Axes>"
      ]
     },
     "metadata": {
      "needs_background": "light"
     },
     "output_type": "display_data"
    }
   ],
   "source": [
    "\n",
    "plt.plot(weight_arr,cost_list)"
   ]
  },
  {
   "cell_type": "markdown",
   "metadata": {},
   "source": [
    "##### SGDRegressor 사용하기"
   ]
  },
  {
   "cell_type": "code",
   "execution_count": 44,
   "metadata": {},
   "outputs": [],
   "source": [
    "from sklearn.linear_model import SGDRegressor"
   ]
  },
  {
   "cell_type": "code",
   "execution_count": 54,
   "metadata": {},
   "outputs": [],
   "source": [
    "sgd_model = SGDRegressor(max_iter = 5000, # 가중치업데이트 반복횟수\n",
    "                         eta0=0.07, # 학습률(learning rate)\n",
    "                        verbose = 0 # 학습 과정을 확인 할 수 있음\n",
    "                        ) "
   ]
  },
  {
   "cell_type": "code",
   "execution_count": 55,
   "metadata": {
    "collapsed": true
   },
   "outputs": [
    {
     "name": "stdout",
     "output_type": "stream",
     "text": [
      "-- Epoch 1\n",
      "Norm: 7.03, NNZs: 1, Bias: 2.783525, T: 4, Avg. loss: 152.618443\n",
      "Total training time: 0.00 seconds.\n",
      "-- Epoch 2\n",
      "Norm: 5.72, NNZs: 1, Bias: 3.899849, T: 8, Avg. loss: 951.980584\n",
      "Total training time: 0.00 seconds.\n",
      "-- Epoch 3\n",
      "Norm: 4.92, NNZs: 1, Bias: 4.261626, T: 12, Avg. loss: 87.229341\n",
      "Total training time: 0.00 seconds.\n",
      "-- Epoch 4\n",
      "Norm: 4.44, NNZs: 1, Bias: 5.078800, T: 16, Avg. loss: 1230.794740\n",
      "Total training time: 0.00 seconds.\n",
      "-- Epoch 5\n",
      "Norm: 4.79, NNZs: 1, Bias: 5.639155, T: 20, Avg. loss: 149.869546\n",
      "Total training time: 0.00 seconds.\n",
      "-- Epoch 6\n",
      "Norm: 5.14, NNZs: 1, Bias: 6.124014, T: 24, Avg. loss: 827.472466\n",
      "Total training time: 0.00 seconds.\n",
      "-- Epoch 7\n",
      "Norm: 6.02, NNZs: 1, Bias: 6.583659, T: 28, Avg. loss: 110.107460\n",
      "Total training time: 0.00 seconds.\n",
      "-- Epoch 8\n",
      "Norm: 6.44, NNZs: 1, Bias: 6.762664, T: 32, Avg. loss: 328.035117\n",
      "Total training time: 0.00 seconds.\n",
      "Convergence after 8 epochs took 0.00 seconds\n"
     ]
    },
    {
     "data": {
      "text/plain": [
       "SGDRegressor(eta0=0.07, max_iter=5000, verbose=1)"
      ]
     },
     "execution_count": 55,
     "metadata": {},
     "output_type": "execute_result"
    }
   ],
   "source": [
    "sgd_model.fit(data[['시간']],data['성적'])"
   ]
  },
  {
   "cell_type": "code",
   "execution_count": 56,
   "metadata": {},
   "outputs": [
    {
     "data": {
      "text/plain": [
       "array([51.82267096])"
      ]
     },
     "execution_count": 56,
     "metadata": {},
     "output_type": "execute_result"
    }
   ],
   "source": [
    "sgd_model.predict([[7]])"
   ]
  },
  {
   "cell_type": "code",
   "execution_count": 57,
   "metadata": {},
   "outputs": [
    {
     "name": "stdout",
     "output_type": "stream",
     "text": [
      "[6.43714388]\n",
      "[6.76266382]\n"
     ]
    }
   ],
   "source": [
    "print(sgd_model.coef_)\n",
    "print(sgd_model.intercept_)"
   ]
  }
 ],
 "metadata": {
  "kernelspec": {
   "display_name": "Python 3",
   "language": "python",
   "name": "python3"
  },
  "language_info": {
   "codemirror_mode": {
    "name": "ipython",
    "version": 3
   },
   "file_extension": ".py",
   "mimetype": "text/x-python",
   "name": "python",
   "nbconvert_exporter": "python",
   "pygments_lexer": "ipython3",
   "version": "3.8.5"
  }
 },
 "nbformat": 4,
 "nbformat_minor": 4
}
